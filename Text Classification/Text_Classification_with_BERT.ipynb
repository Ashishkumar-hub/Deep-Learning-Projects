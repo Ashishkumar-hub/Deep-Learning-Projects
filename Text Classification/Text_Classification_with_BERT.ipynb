{
  "nbformat": 4,
  "nbformat_minor": 0,
  "metadata": {
    "colab": {
      "name": "Text_Classification_with_BERT.ipynb",
      "provenance": [],
      "collapsed_sections": []
    },
    "kernelspec": {
      "name": "python3",
      "display_name": "Python 3"
    },
    "accelerator": "GPU"
  },
  "cells": [
    {
      "cell_type": "markdown",
      "metadata": {
        "id": "WxRYSOxRBKjh"
      },
      "source": [
        "# NLP with BERT for Text Classification"
      ]
    },
    {
      "cell_type": "markdown",
      "metadata": {
        "id": "Ea2IC3HmBbNS"
      },
      "source": [
        "## Importing modules"
      ]
    },
    {
      "cell_type": "code",
      "metadata": {
        "id": "hY-zmtk7N7up"
      },
      "source": [
        "#pip install ktrain"
      ],
      "execution_count": null,
      "outputs": []
    },
    {
      "cell_type": "code",
      "metadata": {
        "id": "-LOODjJYvrCT"
      },
      "source": [
        "import ktrain\n",
        "from ktrain import text"
      ],
      "execution_count": null,
      "outputs": []
    },
    {
      "cell_type": "code",
      "metadata": {
        "id": "em2mbmNOwP7u",
        "colab": {
          "base_uri": "https://localhost:8080/",
          "height": 155
        },
        "outputId": "39782e04-24ec-4c32-8885-31cc27d58480"
      },
      "source": [
        "DATA_PATH = '/bert.csv'\n",
        "(x_train,  y_train), (x_test, y_test), preproc = text.texts_from_csv(DATA_PATH,'comment_text',\n",
        "                      label_columns = [\"toxic\", \"severe_toxic\", \"obscene\", \"threat\", \"insult\", \"identity_hate\"],\n",
        "                      maxlen=150,\n",
        "                      ngram_range=1,preprocess_mode='bert')"
      ],
      "execution_count": null,
      "outputs": [
        {
          "output_type": "stream",
          "text": [
            "detected encoding: utf-8 (if wrong, set manually)\n",
            "preprocessing train...\n",
            "language: en\n"
          ],
          "name": "stdout"
        },
        {
          "output_type": "display_data",
          "data": {
            "text/html": [
              "done."
            ],
            "text/plain": [
              "<IPython.core.display.HTML object>"
            ]
          },
          "metadata": {
            "tags": []
          }
        },
        {
          "output_type": "stream",
          "text": [
            "Is Multi-Label? True\n",
            "preprocessing test...\n",
            "language: en\n"
          ],
          "name": "stdout"
        },
        {
          "output_type": "display_data",
          "data": {
            "text/html": [
              "done."
            ],
            "text/plain": [
              "<IPython.core.display.HTML object>"
            ]
          },
          "metadata": {
            "tags": []
          }
        }
      ]
    },
    {
      "cell_type": "code",
      "metadata": {
        "id": "Y1Wz-j1hwcDt",
        "colab": {
          "base_uri": "https://localhost:8080/",
          "height": 137
        },
        "outputId": "684acdf1-01d3-4183-a267-f584f0ba95df"
      },
      "source": [
        "text.print_text_classifiers()"
      ],
      "execution_count": null,
      "outputs": [
        {
          "output_type": "stream",
          "text": [
            "fasttext: a fastText-like model [http://arxiv.org/pdf/1607.01759.pdf]\n",
            "logreg: logistic regression using a trainable Embedding layer\n",
            "nbsvm: NBSVM model [http://www.aclweb.org/anthology/P12-2018]\n",
            "bigru: Bidirectional GRU with pretrained fasttext word vectors [https://fasttext.cc/docs/en/crawl-vectors.html]\n",
            "standard_gru: simple 2-layer GRU with randomly initialized embeddings\n",
            "bert: Bidirectional Encoder Representations from Transformers (BERT) [https://arxiv.org/abs/1810.04805]\n",
            "distilbert: distilled, smaller, and faster BERT from Hugging Face [https://arxiv.org/abs/1910.01108]\n"
          ],
          "name": "stdout"
        }
      ]
    },
    {
      "cell_type": "markdown",
      "metadata": {
        "id": "PHWzvhOiBomU"
      },
      "source": [
        "## Training the model"
      ]
    },
    {
      "cell_type": "code",
      "metadata": {
        "id": "Hv4c3fqpwouI",
        "colab": {
          "base_uri": "https://localhost:8080/",
          "height": 69
        },
        "outputId": "0c645708-e7fc-4b17-8f89-f916db5f6385"
      },
      "source": [
        "model = text.text_classifier('bert',train_data=(x_train,  y_train), preproc=preproc)\n",
        "learner = ktrain.get_learner(model, train_data=(x_train,  y_train), val_data=(x_test, y_test))"
      ],
      "execution_count": null,
      "outputs": [
        {
          "output_type": "stream",
          "text": [
            "Is Multi-Label? True\n",
            "maxlen is 150\n",
            "done.\n"
          ],
          "name": "stdout"
        }
      ]
    },
    {
      "cell_type": "code",
      "metadata": {
        "id": "BXPwVydSwsdx",
        "colab": {
          "base_uri": "https://localhost:8080/",
          "height": 226
        },
        "outputId": "263b460d-2baa-49a9-d768-1b4366753ee1"
      },
      "source": [
        "learner.lr_find(max_epochs=3)"
      ],
      "execution_count": null,
      "outputs": [
        {
          "output_type": "stream",
          "text": [
            "simulating training for different learning rates... this may take a few moments...\n",
            "Train on 18000 samples\n",
            "Epoch 1/3\n",
            "18000/18000 [==============================] - 481s 27ms/sample - loss: 0.4149 - accuracy: 0.8003\n",
            "Epoch 2/3\n",
            "18000/18000 [==============================] - 463s 26ms/sample - loss: 0.1323 - accuracy: 0.9669\n",
            "Epoch 3/3\n",
            "   32/18000 [..............................] - ETA: 7:43 - loss: 1.0122 - accuracy: 0.9167\n",
            "\n",
            "done.\n",
            "Please invoke the Learner.lr_plot() method to visually inspect the loss plot to help identify the maximal learning rate associated with falling loss.\n"
          ],
          "name": "stdout"
        }
      ]
    },
    {
      "cell_type": "code",
      "metadata": {
        "id": "-ckcNTD7w4so",
        "colab": {
          "base_uri": "https://localhost:8080/",
          "height": 283
        },
        "outputId": "25911c9e-a1d6-4188-da57-e36672ccc635"
      },
      "source": [
        "learner.lr_plot()"
      ],
      "execution_count": null,
      "outputs": [
        {
          "output_type": "display_data",
          "data": {
            "image/png": "[encoded data removed]",
            "text/plain": [
              "<Figure size 432x288 with 1 Axes>"
            ]
          },
          "metadata": {
            "tags": [],
            "needs_background": "light"
          }
        }
      ]
    },
    {
      "cell_type": "code",
      "metadata": {
        "id": "dfsfZd3552Ok",
        "colab": {
          "base_uri": "https://localhost:8080/",
          "height": 206
        },
        "outputId": "c4ca8c24-3f6c-45cb-be46-3688af553378"
      },
      "source": [
        "learner.autofit(0.0007, 3)"
      ],
      "execution_count": null,
      "outputs": [
        {
          "output_type": "stream",
          "text": [
            "\n",
            "\n",
            "begin training using triangular learning rate policy with max lr of 0.0007...\n",
            "Train on 18000 samples, validate on 2000 samples\n",
            "Epoch 1/3\n",
            "18000/18000 [==============================] - 496s 28ms/sample - loss: 0.1604 - accuracy: 0.9566 - val_loss: 0.1567 - val_accuracy: 0.9583\n",
            "Epoch 2/3\n",
            "18000/18000 [==============================] - 476s 26ms/sample - loss: 0.1443 - accuracy: 0.9628 - val_loss: 0.1576 - val_accuracy: 0.9583\n",
            "Epoch 3/3\n",
            "18000/18000 [==============================] - 477s 27ms/sample - loss: 0.1445 - accuracy: 0.9628 - val_loss: 0.1574 - val_accuracy: 0.9583\n"
          ],
          "name": "stdout"
        },
        {
          "output_type": "execute_result",
          "data": {
            "text/plain": [
              "<tensorflow.python.keras.callbacks.History at 0x7f70bbac3da0>"
            ]
          },
          "metadata": {
            "tags": []
          },
          "execution_count": 14
        }
      ]
    },
    {
      "cell_type": "code",
      "metadata": {
        "id": "J7XBJiJc57df"
      },
      "source": [
        "predictor = ktrain.get_predictor(learner.model, preproc)"
      ],
      "execution_count": null,
      "outputs": []
    },
    {
      "cell_type": "code",
      "metadata": {
        "id": "qSXghjW_6Blh",
        "colab": {
          "base_uri": "https://localhost:8080/",
          "height": 120
        },
        "outputId": "638e5998-6024-404d-f0b8-18e2362c3a4d"
      },
      "source": [
        "predictor.predict([\"If you don't stop immediately, I will kill you.\"])"
      ],
      "execution_count": null,
      "outputs": [
        {
          "output_type": "display_data",
          "data": {
            "text/html": [
              ""
            ],
            "text/plain": [
              "<IPython.core.display.HTML object>"
            ]
          },
          "metadata": {
            "tags": []
          }
        },
        {
          "output_type": "execute_result",
          "data": {
            "text/plain": [
              "[[('toxic', 0.09507042),\n",
              "  ('severe_toxic', 0.010912889),\n",
              "  ('obscene', 0.05114879),\n",
              "  ('threat', 0.002506852),\n",
              "  ('insult', 0.04408965),\n",
              "  ('identity_hate', 0.0056467443)]]"
            ]
          },
          "metadata": {
            "tags": []
          },
          "execution_count": 18
        }
      ]
    },
    {
      "cell_type": "code",
      "metadata": {
        "id": "CpFzlHgU6Djj",
        "colab": {
          "base_uri": "https://localhost:8080/",
          "height": 120
        },
        "outputId": "1cadddbe-189c-4381-8a37-6d824775f4cb"
      },
      "source": [
        "predictor.predict([\"Okay - I'm calling it a night. See you tomorrow.\"])"
      ],
      "execution_count": null,
      "outputs": [
        {
          "output_type": "display_data",
          "data": {
            "text/html": [
              ""
            ],
            "text/plain": [
              "<IPython.core.display.HTML object>"
            ]
          },
          "metadata": {
            "tags": []
          }
        },
        {
          "output_type": "execute_result",
          "data": {
            "text/plain": [
              "[[('toxic', 0.09507042),\n",
              "  ('severe_toxic', 0.010912889),\n",
              "  ('obscene', 0.051148765),\n",
              "  ('threat', 0.002506852),\n",
              "  ('insult', 0.04408966),\n",
              "  ('identity_hate', 0.0056467443)]]"
            ]
          },
          "metadata": {
            "tags": []
          },
          "execution_count": 19
        }
      ]
    },
    {
      "cell_type": "markdown",
      "metadata": {
        "id": "Cg7AJLLRBwP-"
      },
      "source": [
        "## Save the model"
      ]
    },
    {
      "cell_type": "code",
      "metadata": {
        "id": "rJZnxLYp6FeF"
      },
      "source": [
        "predictor.save('/tmp/toxic_detector')\n",
        "predictor = ktrain.load_predictor('/tmp/toxic_detector')"
      ],
      "execution_count": null,
      "outputs": []
    }
  ]
}