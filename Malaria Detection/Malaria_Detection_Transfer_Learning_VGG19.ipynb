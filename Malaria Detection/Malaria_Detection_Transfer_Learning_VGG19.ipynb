{
  "nbformat": 4,
  "nbformat_minor": 0,
  "metadata": {
    "kernelspec": {
      "display_name": "Python 3",
      "language": "python",
      "name": "python3"
    },
    "language_info": {
      "codemirror_mode": {
        "name": "ipython",
        "version": 3
      },
      "file_extension": ".py",
      "mimetype": "text/x-python",
      "name": "python",
      "nbconvert_exporter": "python",
      "pygments_lexer": "ipython3",
      "version": "3.7.4"
    },
    "colab": {
      "name": "Malaria Detection Transfer Learning VGG19.ipynb",
      "provenance": [],
      "collapsed_sections": []
    },
    "accelerator": "GPU"
  },
  "cells": [
    {
      "cell_type": "markdown",
      "metadata": {
        "id": "7eYJWxTGa7pY"
      },
      "source": [
        "## Creating CNN Using Transfer Learning (VGG19)"
      ]
    },
    {
      "cell_type": "code",
      "metadata": {
        "id": "Sp1NKM6ca7pe"
      },
      "source": [
        "# import the libraries as shown below\n",
        "\n",
        "from tensorflow.keras.layers import Input, Lambda, Dense, Flatten,Conv2D\n",
        "from tensorflow.keras.models import Model\n",
        "from tensorflow.keras.applications.vgg19 import VGG19\n",
        "from tensorflow.keras.applications.resnet50 import preprocess_input\n",
        "from tensorflow.keras.preprocessing import image\n",
        "from tensorflow.keras.preprocessing.image import ImageDataGenerator,load_img\n",
        "from tensorflow.keras.models import Sequential\n",
        "import numpy as np\n",
        "from glob import glob\n",
        "import matplotlib.pyplot as plt"
      ],
      "execution_count": 2,
      "outputs": []
    },
    {
      "cell_type": "code",
      "metadata": {
        "colab": {
          "base_uri": "https://localhost:8080/"
        },
        "id": "38WVRFO4bSlr",
        "outputId": "e231d93a-f7f4-4907-a41c-b2fc389cd461"
      },
      "source": [
        "from google.colab import drive\r\n",
        "drive.mount('/content/drive/')"
      ],
      "execution_count": 3,
      "outputs": [
        {
          "output_type": "stream",
          "text": [
            "Mounted at /content/drive/\n"
          ],
          "name": "stdout"
        }
      ]
    },
    {
      "cell_type": "code",
      "metadata": {
        "id": "7hV1EPyIa7pe"
      },
      "source": [
        "# re-size all the images to this\n",
        "IMAGE_SIZE = [224, 224]\n",
        "\n",
        "train_path = '/content/drive/MyDrive/Colab Notebooks/Dataset/Train'\n",
        "valid_path = '/content/drive/MyDrive/Colab Notebooks/Dataset/Test'\n"
      ],
      "execution_count": 4,
      "outputs": []
    },
    {
      "cell_type": "code",
      "metadata": {
        "colab": {
          "base_uri": "https://localhost:8080/"
        },
        "id": "QUiufWf9a7pe",
        "outputId": "6719f667-58c4-49f3-91d1-f03ef4caf2c3"
      },
      "source": [
        "# Import the Vgg 16 library as shown below and add preprocessing layer to the front of VGG\n",
        "# Here we will be using imagenet weights\n",
        "\n",
        "vgg19 = VGG19(input_shape=IMAGE_SIZE + [3], weights='imagenet', include_top=False)\n",
        "\n",
        "\n"
      ],
      "execution_count": 5,
      "outputs": [
        {
          "output_type": "stream",
          "text": [
            "Downloading data from https://storage.googleapis.com/tensorflow/keras-applications/vgg19/vgg19_weights_tf_dim_ordering_tf_kernels_notop.h5\n",
            "80142336/80134624 [==============================] - 2s 0us/step\n"
          ],
          "name": "stdout"
        }
      ]
    },
    {
      "cell_type": "code",
      "metadata": {
        "id": "qbWs8sFVa7pf"
      },
      "source": [
        "# don't train existing weights\n",
        "for layer in vgg19.layers:\n",
        "    layer.trainable = False"
      ],
      "execution_count": 6,
      "outputs": []
    },
    {
      "cell_type": "code",
      "metadata": {
        "id": "V-wY-TZ2a7pf"
      },
      "source": [
        "  # useful for getting number of output classes\n",
        "folders = glob('/content/drive/MyDrive/Colab Notebooks/Dataset/Train/*')"
      ],
      "execution_count": 7,
      "outputs": []
    },
    {
      "cell_type": "code",
      "metadata": {
        "colab": {
          "base_uri": "https://localhost:8080/"
        },
        "id": "6n0lqpK2a7pf",
        "outputId": "38e2675b-51e7-47c9-f10a-d0a8ea23f147"
      },
      "source": [
        "folders"
      ],
      "execution_count": 8,
      "outputs": [
        {
          "output_type": "execute_result",
          "data": {
            "text/plain": [
              "['/content/drive/MyDrive/Colab Notebooks/Dataset/Train/Parasite',\n",
              " '/content/drive/MyDrive/Colab Notebooks/Dataset/Train/Uninfected']"
            ]
          },
          "metadata": {
            "tags": []
          },
          "execution_count": 8
        }
      ]
    },
    {
      "cell_type": "code",
      "metadata": {
        "id": "ukurUupja7pg"
      },
      "source": [
        "# our layers - you can add more if you want\n",
        "x = Flatten()(vgg19.output)"
      ],
      "execution_count": 9,
      "outputs": []
    },
    {
      "cell_type": "code",
      "metadata": {
        "id": "SUKThTwQa7pg"
      },
      "source": [
        "prediction = Dense(len(folders), activation='softmax')(x)\n",
        "\n",
        "# create a model object\n",
        "model = Model(inputs=vgg19.input, outputs=prediction)"
      ],
      "execution_count": 10,
      "outputs": []
    },
    {
      "cell_type": "code",
      "metadata": {
        "colab": {
          "base_uri": "https://localhost:8080/"
        },
        "id": "Ah1oIM-1a7ph",
        "outputId": "f1ceb395-d46f-41ce-fe58-8c3538fb2ad5"
      },
      "source": [
        "\n",
        "# view the structure of the model\n",
        "model.summary()\n"
      ],
      "execution_count": 11,
      "outputs": [
        {
          "output_type": "stream",
          "text": [
            "Model: \"model\"\n",
            "_________________________________________________________________\n",
            "Layer (type)                 Output Shape              Param #   \n",
            "=================================================================\n",
            "input_1 (InputLayer)         [(None, 224, 224, 3)]     0         \n",
            "_________________________________________________________________\n",
            "block1_conv1 (Conv2D)        (None, 224, 224, 64)      1792      \n",
            "_________________________________________________________________\n",
            "block1_conv2 (Conv2D)        (None, 224, 224, 64)      36928     \n",
            "_________________________________________________________________\n",
            "block1_pool (MaxPooling2D)   (None, 112, 112, 64)      0         \n",
            "_________________________________________________________________\n",
            "block2_conv1 (Conv2D)        (None, 112, 112, 128)     73856     \n",
            "_________________________________________________________________\n",
            "block2_conv2 (Conv2D)        (None, 112, 112, 128)     147584    \n",
            "_________________________________________________________________\n",
            "block2_pool (MaxPooling2D)   (None, 56, 56, 128)       0         \n",
            "_________________________________________________________________\n",
            "block3_conv1 (Conv2D)        (None, 56, 56, 256)       295168    \n",
            "_________________________________________________________________\n",
            "block3_conv2 (Conv2D)        (None, 56, 56, 256)       590080    \n",
            "_________________________________________________________________\n",
            "block3_conv3 (Conv2D)        (None, 56, 56, 256)       590080    \n",
            "_________________________________________________________________\n",
            "block3_conv4 (Conv2D)        (None, 56, 56, 256)       590080    \n",
            "_________________________________________________________________\n",
            "block3_pool (MaxPooling2D)   (None, 28, 28, 256)       0         \n",
            "_________________________________________________________________\n",
            "block4_conv1 (Conv2D)        (None, 28, 28, 512)       1180160   \n",
            "_________________________________________________________________\n",
            "block4_conv2 (Conv2D)        (None, 28, 28, 512)       2359808   \n",
            "_________________________________________________________________\n",
            "block4_conv3 (Conv2D)        (None, 28, 28, 512)       2359808   \n",
            "_________________________________________________________________\n",
            "block4_conv4 (Conv2D)        (None, 28, 28, 512)       2359808   \n",
            "_________________________________________________________________\n",
            "block4_pool (MaxPooling2D)   (None, 14, 14, 512)       0         \n",
            "_________________________________________________________________\n",
            "block5_conv1 (Conv2D)        (None, 14, 14, 512)       2359808   \n",
            "_________________________________________________________________\n",
            "block5_conv2 (Conv2D)        (None, 14, 14, 512)       2359808   \n",
            "_________________________________________________________________\n",
            "block5_conv3 (Conv2D)        (None, 14, 14, 512)       2359808   \n",
            "_________________________________________________________________\n",
            "block5_conv4 (Conv2D)        (None, 14, 14, 512)       2359808   \n",
            "_________________________________________________________________\n",
            "block5_pool (MaxPooling2D)   (None, 7, 7, 512)         0         \n",
            "_________________________________________________________________\n",
            "flatten (Flatten)            (None, 25088)             0         \n",
            "_________________________________________________________________\n",
            "dense (Dense)                (None, 2)                 50178     \n",
            "=================================================================\n",
            "Total params: 20,074,562\n",
            "Trainable params: 50,178\n",
            "Non-trainable params: 20,024,384\n",
            "_________________________________________________________________\n"
          ],
          "name": "stdout"
        }
      ]
    },
    {
      "cell_type": "code",
      "metadata": {
        "id": "Baots5yAa7pi"
      },
      "source": [
        "# tell the model what cost and optimization method to use\n",
        "model.compile(\n",
        "  loss='categorical_crossentropy',\n",
        "  optimizer='adam',\n",
        "  metrics=['accuracy']\n",
        ")\n"
      ],
      "execution_count": 13,
      "outputs": []
    },
    {
      "cell_type": "code",
      "metadata": {
        "id": "qAd7tB79a7pi"
      },
      "source": [
        "# Use the Image Data Generator to import the images from the dataset\n",
        "from tensorflow.keras.preprocessing.image import ImageDataGenerator\n",
        "\n",
        "train_datagen = ImageDataGenerator(rescale = 1./255,\n",
        "                                   shear_range = 0.2,\n",
        "                                   zoom_range = 0.2,\n",
        "                                   horizontal_flip = True)\n",
        "\n",
        "test_datagen = ImageDataGenerator(rescale = 1./255)"
      ],
      "execution_count": 14,
      "outputs": []
    },
    {
      "cell_type": "code",
      "metadata": {
        "colab": {
          "base_uri": "https://localhost:8080/"
        },
        "id": "2NLCVCYHa7pi",
        "outputId": "f74423a6-658a-4052-c354-c6db9d156032"
      },
      "source": [
        "# Make sure you provide the same target size as initialied for the image size\n",
        "training_set = train_datagen.flow_from_directory('/content/drive/MyDrive/Colab Notebooks/Dataset/Train',\n",
        "                                                 target_size = (224, 224),\n",
        "                                                 batch_size = 32,\n",
        "                                                 class_mode = 'categorical')"
      ],
      "execution_count": 15,
      "outputs": [
        {
          "output_type": "stream",
          "text": [
            "Found 416 images belonging to 2 classes.\n"
          ],
          "name": "stdout"
        }
      ]
    },
    {
      "cell_type": "code",
      "metadata": {
        "colab": {
          "base_uri": "https://localhost:8080/"
        },
        "id": "3YapPdaEa7pi",
        "outputId": "7c538745-3def-4e64-b654-9495c627ab0f"
      },
      "source": [
        "training_set"
      ],
      "execution_count": 16,
      "outputs": [
        {
          "output_type": "execute_result",
          "data": {
            "text/plain": [
              "<tensorflow.python.keras.preprocessing.image.DirectoryIterator at 0x7f77a00fc908>"
            ]
          },
          "metadata": {
            "tags": []
          },
          "execution_count": 16
        }
      ]
    },
    {
      "cell_type": "code",
      "metadata": {
        "colab": {
          "base_uri": "https://localhost:8080/"
        },
        "id": "AS8r3agta7pj",
        "outputId": "ea3101eb-1933-48ee-8531-f0d564567bf9"
      },
      "source": [
        "test_set = test_datagen.flow_from_directory('/content/drive/MyDrive/Colab Notebooks/Dataset/Test',\n",
        "                                            target_size = (224, 224),\n",
        "                                            batch_size = 32,\n",
        "                                            class_mode = 'categorical')"
      ],
      "execution_count": 17,
      "outputs": [
        {
          "output_type": "stream",
          "text": [
            "Found 134 images belonging to 2 classes.\n"
          ],
          "name": "stdout"
        }
      ]
    },
    {
      "cell_type": "code",
      "metadata": {
        "scrolled": true,
        "colab": {
          "base_uri": "https://localhost:8080/"
        },
        "id": "9WD6dlcHa7pj",
        "outputId": "ba46ee40-3b5a-424b-9bf0-3468139328e0"
      },
      "source": [
        "# fit the model\n",
        "# Run the cell. It will take some time to execute\n",
        "r = model.fit_generator(\n",
        "  training_set,\n",
        "  validation_data=test_set,\n",
        "  epochs=50,\n",
        "  steps_per_epoch=len(training_set),\n",
        "  validation_steps=len(test_set)\n",
        ")"
      ],
      "execution_count": 18,
      "outputs": [
        {
          "output_type": "stream",
          "text": [
            "/usr/local/lib/python3.6/dist-packages/tensorflow/python/keras/engine/training.py:1844: UserWarning: `Model.fit_generator` is deprecated and will be removed in a future version. Please use `Model.fit`, which supports generators.\n",
            "  warnings.warn('`Model.fit_generator` is deprecated and '\n"
          ],
          "name": "stderr"
        },
        {
          "output_type": "stream",
          "text": [
            "Epoch 1/50\n",
            "13/13 [==============================] - 351s 27s/step - loss: 1.1390 - accuracy: 0.5521 - val_loss: 0.8833 - val_accuracy: 0.4776\n",
            "Epoch 2/50\n",
            "13/13 [==============================] - 6s 470ms/step - loss: 0.4973 - accuracy: 0.7697 - val_loss: 0.4730 - val_accuracy: 0.7687\n",
            "Epoch 3/50\n",
            "13/13 [==============================] - 6s 468ms/step - loss: 0.4012 - accuracy: 0.8178 - val_loss: 0.4483 - val_accuracy: 0.7463\n",
            "Epoch 4/50\n",
            "13/13 [==============================] - 6s 472ms/step - loss: 0.3572 - accuracy: 0.8507 - val_loss: 0.4174 - val_accuracy: 0.8358\n",
            "Epoch 5/50\n",
            "13/13 [==============================] - 6s 470ms/step - loss: 0.2983 - accuracy: 0.9017 - val_loss: 0.4778 - val_accuracy: 0.7761\n",
            "Epoch 6/50\n",
            "13/13 [==============================] - 6s 471ms/step - loss: 0.3123 - accuracy: 0.8403 - val_loss: 0.4658 - val_accuracy: 0.7015\n",
            "Epoch 7/50\n",
            "13/13 [==============================] - 6s 470ms/step - loss: 0.3429 - accuracy: 0.8297 - val_loss: 0.3762 - val_accuracy: 0.7761\n",
            "Epoch 8/50\n",
            "13/13 [==============================] - 6s 472ms/step - loss: 0.2280 - accuracy: 0.8990 - val_loss: 0.2969 - val_accuracy: 0.9030\n",
            "Epoch 9/50\n",
            "13/13 [==============================] - 6s 470ms/step - loss: 0.1854 - accuracy: 0.9420 - val_loss: 0.2734 - val_accuracy: 0.9030\n",
            "Epoch 10/50\n",
            "13/13 [==============================] - 6s 477ms/step - loss: 0.2462 - accuracy: 0.9136 - val_loss: 0.3501 - val_accuracy: 0.8060\n",
            "Epoch 11/50\n",
            "13/13 [==============================] - 6s 476ms/step - loss: 0.2634 - accuracy: 0.8949 - val_loss: 0.3645 - val_accuracy: 0.7985\n",
            "Epoch 12/50\n",
            "13/13 [==============================] - 6s 472ms/step - loss: 0.1535 - accuracy: 0.9596 - val_loss: 0.2453 - val_accuracy: 0.9030\n",
            "Epoch 13/50\n",
            "13/13 [==============================] - 6s 472ms/step - loss: 0.1705 - accuracy: 0.9525 - val_loss: 0.3220 - val_accuracy: 0.8582\n",
            "Epoch 14/50\n",
            "13/13 [==============================] - 6s 474ms/step - loss: 0.1609 - accuracy: 0.9526 - val_loss: 0.2348 - val_accuracy: 0.9328\n",
            "Epoch 15/50\n",
            "13/13 [==============================] - 6s 470ms/step - loss: 0.1706 - accuracy: 0.9395 - val_loss: 0.2609 - val_accuracy: 0.9030\n",
            "Epoch 16/50\n",
            "13/13 [==============================] - 6s 472ms/step - loss: 0.1438 - accuracy: 0.9506 - val_loss: 0.4456 - val_accuracy: 0.7537\n",
            "Epoch 17/50\n",
            "13/13 [==============================] - 6s 474ms/step - loss: 0.1954 - accuracy: 0.9011 - val_loss: 0.3111 - val_accuracy: 0.8284\n",
            "Epoch 18/50\n",
            "13/13 [==============================] - 6s 471ms/step - loss: 0.1935 - accuracy: 0.9016 - val_loss: 0.3348 - val_accuracy: 0.8433\n",
            "Epoch 19/50\n",
            "13/13 [==============================] - 6s 476ms/step - loss: 0.1539 - accuracy: 0.9395 - val_loss: 0.2519 - val_accuracy: 0.8806\n",
            "Epoch 20/50\n",
            "13/13 [==============================] - 6s 472ms/step - loss: 0.1184 - accuracy: 0.9701 - val_loss: 0.2996 - val_accuracy: 0.9030\n",
            "Epoch 21/50\n",
            "13/13 [==============================] - 6s 475ms/step - loss: 0.1153 - accuracy: 0.9664 - val_loss: 0.2640 - val_accuracy: 0.8955\n",
            "Epoch 22/50\n",
            "13/13 [==============================] - 6s 475ms/step - loss: 0.1182 - accuracy: 0.9692 - val_loss: 0.2696 - val_accuracy: 0.9104\n",
            "Epoch 23/50\n",
            "13/13 [==============================] - 6s 479ms/step - loss: 0.0990 - accuracy: 0.9814 - val_loss: 0.2912 - val_accuracy: 0.8881\n",
            "Epoch 24/50\n",
            "13/13 [==============================] - 6s 474ms/step - loss: 0.1251 - accuracy: 0.9630 - val_loss: 0.3467 - val_accuracy: 0.8284\n",
            "Epoch 25/50\n",
            "13/13 [==============================] - 6s 474ms/step - loss: 0.1399 - accuracy: 0.9526 - val_loss: 0.2209 - val_accuracy: 0.8955\n",
            "Epoch 26/50\n",
            "13/13 [==============================] - 6s 482ms/step - loss: 0.1355 - accuracy: 0.9583 - val_loss: 0.3992 - val_accuracy: 0.8134\n",
            "Epoch 27/50\n",
            "13/13 [==============================] - 6s 478ms/step - loss: 0.1067 - accuracy: 0.9657 - val_loss: 0.2137 - val_accuracy: 0.9104\n",
            "Epoch 28/50\n",
            "13/13 [==============================] - 6s 478ms/step - loss: 0.1164 - accuracy: 0.9543 - val_loss: 0.2788 - val_accuracy: 0.8881\n",
            "Epoch 29/50\n",
            "13/13 [==============================] - 6s 474ms/step - loss: 0.1188 - accuracy: 0.9436 - val_loss: 0.2356 - val_accuracy: 0.9104\n",
            "Epoch 30/50\n",
            "13/13 [==============================] - 6s 473ms/step - loss: 0.0926 - accuracy: 0.9647 - val_loss: 0.4078 - val_accuracy: 0.8134\n",
            "Epoch 31/50\n",
            "13/13 [==============================] - 6s 475ms/step - loss: 0.1117 - accuracy: 0.9612 - val_loss: 0.2021 - val_accuracy: 0.9104\n",
            "Epoch 32/50\n",
            "13/13 [==============================] - 6s 477ms/step - loss: 0.1017 - accuracy: 0.9680 - val_loss: 0.1964 - val_accuracy: 0.9030\n",
            "Epoch 33/50\n",
            "13/13 [==============================] - 6s 473ms/step - loss: 0.0890 - accuracy: 0.9798 - val_loss: 0.2192 - val_accuracy: 0.9104\n",
            "Epoch 34/50\n",
            "13/13 [==============================] - 6s 478ms/step - loss: 0.1626 - accuracy: 0.9474 - val_loss: 0.5677 - val_accuracy: 0.7463\n",
            "Epoch 35/50\n",
            "13/13 [==============================] - 6s 478ms/step - loss: 0.1655 - accuracy: 0.9286 - val_loss: 0.2610 - val_accuracy: 0.8955\n",
            "Epoch 36/50\n",
            "13/13 [==============================] - 6s 480ms/step - loss: 0.0739 - accuracy: 0.9840 - val_loss: 0.3003 - val_accuracy: 0.8731\n",
            "Epoch 37/50\n",
            "13/13 [==============================] - 6s 481ms/step - loss: 0.0997 - accuracy: 0.9750 - val_loss: 0.2940 - val_accuracy: 0.8806\n",
            "Epoch 38/50\n",
            "13/13 [==============================] - 6s 476ms/step - loss: 0.0848 - accuracy: 0.9727 - val_loss: 0.2886 - val_accuracy: 0.8806\n",
            "Epoch 39/50\n",
            "13/13 [==============================] - 6s 477ms/step - loss: 0.1100 - accuracy: 0.9627 - val_loss: 0.1888 - val_accuracy: 0.9403\n",
            "Epoch 40/50\n",
            "13/13 [==============================] - 6s 473ms/step - loss: 0.0780 - accuracy: 0.9738 - val_loss: 0.2366 - val_accuracy: 0.9030\n",
            "Epoch 41/50\n",
            "13/13 [==============================] - 6s 474ms/step - loss: 0.0798 - accuracy: 0.9753 - val_loss: 0.3344 - val_accuracy: 0.8582\n",
            "Epoch 42/50\n",
            "13/13 [==============================] - 6s 477ms/step - loss: 0.0786 - accuracy: 0.9753 - val_loss: 0.2441 - val_accuracy: 0.8955\n",
            "Epoch 43/50\n",
            "13/13 [==============================] - 6s 478ms/step - loss: 0.0757 - accuracy: 0.9793 - val_loss: 0.1765 - val_accuracy: 0.9254\n",
            "Epoch 44/50\n",
            "13/13 [==============================] - 6s 475ms/step - loss: 0.0741 - accuracy: 0.9742 - val_loss: 0.1846 - val_accuracy: 0.9254\n",
            "Epoch 45/50\n",
            "13/13 [==============================] - 6s 487ms/step - loss: 0.0701 - accuracy: 0.9854 - val_loss: 0.1670 - val_accuracy: 0.9328\n",
            "Epoch 46/50\n",
            "13/13 [==============================] - 6s 489ms/step - loss: 0.0925 - accuracy: 0.9783 - val_loss: 0.2945 - val_accuracy: 0.8731\n",
            "Epoch 47/50\n",
            "13/13 [==============================] - 6s 484ms/step - loss: 0.0853 - accuracy: 0.9711 - val_loss: 0.1851 - val_accuracy: 0.9030\n",
            "Epoch 48/50\n",
            "13/13 [==============================] - 6s 476ms/step - loss: 0.0950 - accuracy: 0.9684 - val_loss: 0.2670 - val_accuracy: 0.8881\n",
            "Epoch 49/50\n",
            "13/13 [==============================] - 6s 477ms/step - loss: 0.0711 - accuracy: 0.9809 - val_loss: 0.2733 - val_accuracy: 0.8881\n",
            "Epoch 50/50\n",
            "13/13 [==============================] - 6s 479ms/step - loss: 0.0611 - accuracy: 0.9793 - val_loss: 0.3543 - val_accuracy: 0.8582\n"
          ],
          "name": "stdout"
        }
      ]
    },
    {
      "cell_type": "code",
      "metadata": {
        "colab": {
          "base_uri": "https://localhost:8080/",
          "height": 532
        },
        "id": "O0SOxH6Pa7pj",
        "outputId": "a0e83a91-a1a4-4003-80ff-e57747e4c67d"
      },
      "source": [
        "# plot the loss\n",
        "plt.plot(r.history['loss'], label='train loss')\n",
        "plt.plot(r.history['val_loss'], label='val loss')\n",
        "plt.legend()\n",
        "plt.show()\n",
        "plt.savefig('LossVal_loss')\n",
        "\n",
        "# plot the accuracy\n",
        "plt.plot(r.history['accuracy'], label='train acc')\n",
        "plt.plot(r.history['val_accuracy'], label='val acc')\n",
        "plt.legend()\n",
        "plt.show()\n",
        "plt.savefig('AccVal_acc')"
      ],
      "execution_count": 19,
      "outputs": [
        {
          "output_type": "display_data",
          "data": {
            "image/png": "[encoded data removed]",
            "text/plain": [
              "<Figure size 432x288 with 1 Axes>"
            ]
          },
          "metadata": {
            "tags": [],
            "needs_background": "light"
          }
        },
        {
          "output_type": "display_data",
          "data": {
            "image/png": "[encoded data removed]",
            "text/plain": [
              "<Figure size 432x288 with 1 Axes>"
            ]
          },
          "metadata": {
            "tags": [],
            "needs_background": "light"
          }
        },
        {
          "output_type": "display_data",
          "data": {
            "text/plain": [
              "<Figure size 432x288 with 0 Axes>"
            ]
          },
          "metadata": {
            "tags": []
          }
        }
      ]
    },
    {
      "cell_type": "code",
      "metadata": {
        "id": "jM6VuQNma7pk"
      },
      "source": [
        "# save it as a h5 file\n",
        "\n",
        "\n",
        "from tensorflow.keras.models import load_model\n",
        "\n",
        "model.save('model_vgg19.h5')"
      ],
      "execution_count": 20,
      "outputs": []
    },
    {
      "cell_type": "code",
      "metadata": {
        "id": "fh3pjB-Ua7pk"
      },
      "source": [
        "\n",
        "y_pred = model.predict(test_set)\n"
      ],
      "execution_count": 21,
      "outputs": []
    },
    {
      "cell_type": "code",
      "metadata": {
        "colab": {
          "base_uri": "https://localhost:8080/"
        },
        "id": "0PBAPDNza7pk",
        "outputId": "956aa176-ab1b-47e8-91fe-2286942b4d41"
      },
      "source": [
        "y_pred"
      ],
      "execution_count": 22,
      "outputs": [
        {
          "output_type": "execute_result",
          "data": {
            "text/plain": [
              "array([[9.89509106e-01, 1.04908925e-02],\n",
              "       [9.98372257e-01, 1.62779703e-03],\n",
              "       [2.36240495e-02, 9.76375937e-01],\n",
              "       [2.37285092e-01, 7.62714863e-01],\n",
              "       [1.94089941e-03, 9.98059094e-01],\n",
              "       [1.98449977e-02, 9.80155051e-01],\n",
              "       [9.94164288e-01, 5.83572639e-03],\n",
              "       [7.35895693e-01, 2.64104337e-01],\n",
              "       [3.08336746e-02, 9.69166279e-01],\n",
              "       [1.00000000e+00, 4.87628071e-08],\n",
              "       [6.49968207e-01, 3.50031823e-01],\n",
              "       [4.92190905e-02, 9.50780928e-01],\n",
              "       [9.98383522e-01, 1.61650684e-03],\n",
              "       [1.64574832e-02, 9.83542562e-01],\n",
              "       [8.86628985e-01, 1.13371022e-01],\n",
              "       [8.52923840e-02, 9.14707601e-01],\n",
              "       [3.36066969e-02, 9.66393292e-01],\n",
              "       [9.81706083e-01, 1.82938427e-02],\n",
              "       [6.23287022e-01, 3.76713037e-01],\n",
              "       [9.95166898e-01, 4.83308500e-03],\n",
              "       [9.96500611e-01, 3.49943712e-03],\n",
              "       [1.24328565e-02, 9.87567186e-01],\n",
              "       [9.99620080e-01, 3.79866076e-04],\n",
              "       [1.88648656e-01, 8.11351359e-01],\n",
              "       [9.97791290e-01, 2.20868713e-03],\n",
              "       [8.22413340e-03, 9.91775870e-01],\n",
              "       [1.12296576e-02, 9.88770366e-01],\n",
              "       [7.61975765e-01, 2.38024190e-01],\n",
              "       [3.86171043e-03, 9.96138275e-01],\n",
              "       [3.77835967e-02, 9.62216377e-01],\n",
              "       [9.38282311e-02, 9.06171799e-01],\n",
              "       [8.61526549e-01, 1.38473511e-01],\n",
              "       [3.67750227e-03, 9.96322513e-01],\n",
              "       [9.99898911e-01, 1.01021593e-04],\n",
              "       [1.13198131e-01, 8.86801839e-01],\n",
              "       [7.93261409e-01, 2.06738591e-01],\n",
              "       [2.05030777e-02, 9.79496956e-01],\n",
              "       [8.26152414e-03, 9.91738498e-01],\n",
              "       [2.04164106e-02, 9.79583561e-01],\n",
              "       [5.00791848e-01, 4.99208152e-01],\n",
              "       [4.56540212e-02, 9.54346001e-01],\n",
              "       [9.84559894e-01, 1.54400934e-02],\n",
              "       [9.92994130e-01, 7.00589875e-03],\n",
              "       [9.99978304e-01, 2.17014331e-05],\n",
              "       [8.63504529e-01, 1.36495516e-01],\n",
              "       [6.50302351e-01, 3.49697679e-01],\n",
              "       [8.64223778e-01, 1.35776192e-01],\n",
              "       [9.98633444e-01, 1.36652961e-03],\n",
              "       [5.80526531e-01, 4.19473469e-01],\n",
              "       [1.18819783e-02, 9.88117993e-01],\n",
              "       [9.99997973e-01, 1.98296607e-06],\n",
              "       [9.98696744e-01, 1.30328897e-03],\n",
              "       [7.50719383e-02, 9.24928010e-01],\n",
              "       [1.27151096e-02, 9.87284839e-01],\n",
              "       [9.32909012e-01, 6.70909882e-02],\n",
              "       [8.27538252e-01, 1.72461718e-01],\n",
              "       [9.79235113e-01, 2.07648724e-02],\n",
              "       [3.15035917e-02, 9.68496382e-01],\n",
              "       [9.99438703e-01, 5.61284018e-04],\n",
              "       [9.78382885e-01, 2.16171090e-02],\n",
              "       [1.88714266e-01, 8.11285675e-01],\n",
              "       [8.53725553e-01, 1.46274447e-01],\n",
              "       [8.93546402e-01, 1.06453665e-01],\n",
              "       [9.99898553e-01, 1.01422549e-04],\n",
              "       [1.21928856e-01, 8.78071129e-01],\n",
              "       [9.99979496e-01, 2.05308788e-05],\n",
              "       [1.44803580e-02, 9.85519648e-01],\n",
              "       [9.94382739e-01, 5.61723905e-03],\n",
              "       [8.01369920e-03, 9.91986275e-01],\n",
              "       [9.98103261e-01, 1.89669791e-03],\n",
              "       [9.99365747e-01, 6.34208496e-04],\n",
              "       [2.97139913e-01, 7.02860057e-01],\n",
              "       [9.93547499e-01, 6.45250920e-03],\n",
              "       [1.80937916e-01, 8.19062114e-01],\n",
              "       [2.50626132e-02, 9.74937379e-01],\n",
              "       [3.07050347e-02, 9.69294965e-01],\n",
              "       [9.99989867e-01, 1.00793222e-05],\n",
              "       [9.99602616e-01, 3.97348835e-04],\n",
              "       [7.78966665e-01, 2.21033365e-01],\n",
              "       [9.98909712e-01, 1.09029491e-03],\n",
              "       [7.59825349e-01, 2.40174666e-01],\n",
              "       [4.64293696e-02, 9.53570545e-01],\n",
              "       [9.61309850e-01, 3.86901870e-02],\n",
              "       [1.00000000e+00, 2.42707312e-08],\n",
              "       [7.87857592e-01, 2.12142438e-01],\n",
              "       [9.94271398e-01, 5.72866015e-03],\n",
              "       [9.97730792e-01, 2.26924405e-03],\n",
              "       [9.99991894e-01, 8.11397786e-06],\n",
              "       [4.69903976e-01, 5.30095994e-01],\n",
              "       [6.10228300e-01, 3.89771730e-01],\n",
              "       [7.46587152e-03, 9.92534161e-01],\n",
              "       [8.68529975e-01, 1.31470010e-01],\n",
              "       [7.33864605e-02, 9.26613510e-01],\n",
              "       [5.65591231e-02, 9.43440855e-01],\n",
              "       [3.67164791e-01, 6.32835209e-01],\n",
              "       [2.37027388e-02, 9.76297319e-01],\n",
              "       [9.74878788e-01, 2.51212046e-02],\n",
              "       [6.12337934e-03, 9.93876636e-01],\n",
              "       [1.52476914e-02, 9.84752357e-01],\n",
              "       [6.66244561e-03, 9.93337512e-01],\n",
              "       [9.42330718e-01, 5.76693490e-02],\n",
              "       [9.99439657e-01, 5.60344546e-04],\n",
              "       [5.19411685e-03, 9.94805872e-01],\n",
              "       [8.40317726e-01, 1.59682244e-01],\n",
              "       [4.68714327e-01, 5.31285644e-01],\n",
              "       [9.97771800e-01, 2.22812430e-03],\n",
              "       [3.23072821e-02, 9.67692733e-01],\n",
              "       [5.00550214e-03, 9.94994521e-01],\n",
              "       [9.99461234e-01, 5.38729655e-04],\n",
              "       [6.67595088e-01, 3.32404912e-01],\n",
              "       [1.91722810e-01, 8.08277190e-01],\n",
              "       [3.48839581e-01, 6.51160419e-01],\n",
              "       [1.43662579e-02, 9.85633790e-01],\n",
              "       [1.54037490e-01, 8.45962465e-01],\n",
              "       [9.99908566e-01, 9.14457560e-05],\n",
              "       [4.57434244e-02, 9.54256594e-01],\n",
              "       [3.63225886e-03, 9.96367693e-01],\n",
              "       [7.38947280e-03, 9.92610514e-01],\n",
              "       [4.52137947e-01, 5.47862113e-01],\n",
              "       [9.99996066e-01, 3.98532802e-06],\n",
              "       [7.92826951e-01, 2.07173005e-01],\n",
              "       [9.99875188e-01, 1.24846556e-04],\n",
              "       [9.59867518e-03, 9.90401328e-01],\n",
              "       [9.99138474e-01, 8.61529203e-04],\n",
              "       [9.99380708e-01, 6.19300699e-04],\n",
              "       [9.96770501e-01, 3.22952378e-03],\n",
              "       [2.37880275e-02, 9.76211965e-01],\n",
              "       [6.24001957e-03, 9.93759930e-01],\n",
              "       [4.97550130e-01, 5.02449870e-01],\n",
              "       [6.40150011e-01, 3.59850019e-01],\n",
              "       [3.21291499e-02, 9.67870831e-01],\n",
              "       [9.91792738e-01, 8.20729136e-03],\n",
              "       [9.35162604e-01, 6.48373291e-02],\n",
              "       [6.47158502e-03, 9.93528426e-01]], dtype=float32)"
            ]
          },
          "metadata": {
            "tags": []
          },
          "execution_count": 22
        }
      ]
    },
    {
      "cell_type": "code",
      "metadata": {
        "id": "VOYWVFJsa7pk"
      },
      "source": [
        "import numpy as np\n",
        "y_pred = np.argmax(y_pred, axis=1)"
      ],
      "execution_count": 23,
      "outputs": []
    },
    {
      "cell_type": "code",
      "metadata": {
        "colab": {
          "base_uri": "https://localhost:8080/"
        },
        "id": "i4nRee06a7pl",
        "outputId": "4158359a-3b21-4b8e-da6d-0db53e2fa760"
      },
      "source": [
        "y_pred"
      ],
      "execution_count": 24,
      "outputs": [
        {
          "output_type": "execute_result",
          "data": {
            "text/plain": [
              "array([0, 0, 1, 1, 1, 1, 0, 0, 1, 0, 0, 1, 0, 1, 0, 1, 1, 0, 0, 0, 0, 1,\n",
              "       0, 1, 0, 1, 1, 0, 1, 1, 1, 0, 1, 0, 1, 0, 1, 1, 1, 0, 1, 0, 0, 0,\n",
              "       0, 0, 0, 0, 0, 1, 0, 0, 1, 1, 0, 0, 0, 1, 0, 0, 1, 0, 0, 0, 1, 0,\n",
              "       1, 0, 1, 0, 0, 1, 0, 1, 1, 1, 0, 0, 0, 0, 0, 1, 0, 0, 0, 0, 0, 0,\n",
              "       1, 0, 1, 0, 1, 1, 1, 1, 0, 1, 1, 1, 0, 0, 1, 0, 1, 0, 1, 1, 0, 0,\n",
              "       1, 1, 1, 1, 0, 1, 1, 1, 1, 0, 0, 0, 1, 0, 0, 0, 1, 1, 1, 0, 1, 0,\n",
              "       0, 1])"
            ]
          },
          "metadata": {
            "tags": []
          },
          "execution_count": 24
        }
      ]
    },
    {
      "cell_type": "code",
      "metadata": {
        "id": "jcABdeQGa7pl"
      },
      "source": [
        "from tensorflow.keras.models import load_model\n",
        "from tensorflow.keras.preprocessing import image"
      ],
      "execution_count": 25,
      "outputs": []
    },
    {
      "cell_type": "code",
      "metadata": {
        "id": "g8pjo-Aea7pl"
      },
      "source": [
        "model=load_model('model_vgg19.h5')"
      ],
      "execution_count": 26,
      "outputs": []
    },
    {
      "cell_type": "code",
      "metadata": {
        "id": "aU6j8s_Ta7pl"
      },
      "source": [
        "img=image.load_img('/content/drive/MyDrive/Colab Notebooks/Dataset/Test/Uninfected/2.png',target_size=(224,224))\n",
        "\n"
      ],
      "execution_count": 81,
      "outputs": []
    },
    {
      "cell_type": "code",
      "metadata": {
        "colab": {
          "base_uri": "https://localhost:8080/"
        },
        "id": "YNKxM9bVa7pm",
        "outputId": "def1b57c-05b7-4d56-9eb9-58e9679efba3"
      },
      "source": [
        "x=image.img_to_array(img)\n",
        "x"
      ],
      "execution_count": 82,
      "outputs": [
        {
          "output_type": "execute_result",
          "data": {
            "text/plain": [
              "array([[[0., 0., 0.],\n",
              "        [0., 0., 0.],\n",
              "        [0., 0., 0.],\n",
              "        ...,\n",
              "        [0., 0., 0.],\n",
              "        [0., 0., 0.],\n",
              "        [0., 0., 0.]],\n",
              "\n",
              "       [[0., 0., 0.],\n",
              "        [0., 0., 0.],\n",
              "        [0., 0., 0.],\n",
              "        ...,\n",
              "        [0., 0., 0.],\n",
              "        [0., 0., 0.],\n",
              "        [0., 0., 0.]],\n",
              "\n",
              "       [[0., 0., 0.],\n",
              "        [0., 0., 0.],\n",
              "        [0., 0., 0.],\n",
              "        ...,\n",
              "        [0., 0., 0.],\n",
              "        [0., 0., 0.],\n",
              "        [0., 0., 0.]],\n",
              "\n",
              "       ...,\n",
              "\n",
              "       [[0., 0., 0.],\n",
              "        [0., 0., 0.],\n",
              "        [0., 0., 0.],\n",
              "        ...,\n",
              "        [0., 0., 0.],\n",
              "        [0., 0., 0.],\n",
              "        [0., 0., 0.]],\n",
              "\n",
              "       [[0., 0., 0.],\n",
              "        [0., 0., 0.],\n",
              "        [0., 0., 0.],\n",
              "        ...,\n",
              "        [0., 0., 0.],\n",
              "        [0., 0., 0.],\n",
              "        [0., 0., 0.]],\n",
              "\n",
              "       [[0., 0., 0.],\n",
              "        [0., 0., 0.],\n",
              "        [0., 0., 0.],\n",
              "        ...,\n",
              "        [0., 0., 0.],\n",
              "        [0., 0., 0.],\n",
              "        [0., 0., 0.]]], dtype=float32)"
            ]
          },
          "metadata": {
            "tags": []
          },
          "execution_count": 82
        }
      ]
    },
    {
      "cell_type": "code",
      "metadata": {
        "colab": {
          "base_uri": "https://localhost:8080/"
        },
        "id": "3o4Qaxhxa7pm",
        "outputId": "4e10438a-4181-42ae-d89d-1b54185b8255"
      },
      "source": [
        "x.shape"
      ],
      "execution_count": 83,
      "outputs": [
        {
          "output_type": "execute_result",
          "data": {
            "text/plain": [
              "(224, 224, 3)"
            ]
          },
          "metadata": {
            "tags": []
          },
          "execution_count": 83
        }
      ]
    },
    {
      "cell_type": "code",
      "metadata": {
        "id": "oxUBHJA-a7pm"
      },
      "source": [
        "x=x/255"
      ],
      "execution_count": 84,
      "outputs": []
    },
    {
      "cell_type": "code",
      "metadata": {
        "colab": {
          "base_uri": "https://localhost:8080/"
        },
        "id": "0nbKg8HXa7pm",
        "outputId": "74a7412d-bbe6-4278-ce0e-f08583a68875"
      },
      "source": [
        "x=np.expand_dims(x,axis=0)\n",
        "img_data=preprocess_input(x)\n",
        "img_data.shape"
      ],
      "execution_count": 85,
      "outputs": [
        {
          "output_type": "execute_result",
          "data": {
            "text/plain": [
              "(1, 224, 224, 3)"
            ]
          },
          "metadata": {
            "tags": []
          },
          "execution_count": 85
        }
      ]
    },
    {
      "cell_type": "code",
      "metadata": {
        "colab": {
          "base_uri": "https://localhost:8080/"
        },
        "id": "IiZrW3zxa7pm",
        "outputId": "e77dff8e-e216-4248-a506-7e20ca2d5506"
      },
      "source": [
        "model.predict(img_data)"
      ],
      "execution_count": 86,
      "outputs": [
        {
          "output_type": "execute_result",
          "data": {
            "text/plain": [
              "array([[0.03657779, 0.96342224]], dtype=float32)"
            ]
          },
          "metadata": {
            "tags": []
          },
          "execution_count": 86
        }
      ]
    },
    {
      "cell_type": "code",
      "metadata": {
        "id": "dMn6teNna7pm"
      },
      "source": [
        "a=np.argmax(model.predict(img_data), axis=1)"
      ],
      "execution_count": 87,
      "outputs": []
    },
    {
      "cell_type": "code",
      "metadata": {
        "colab": {
          "base_uri": "https://localhost:8080/"
        },
        "id": "KPln_vVUZcUv",
        "outputId": "368a1f8d-8edf-400d-fa6f-5c97b8aeac52"
      },
      "source": [
        "a"
      ],
      "execution_count": 88,
      "outputs": [
        {
          "output_type": "execute_result",
          "data": {
            "text/plain": [
              "array([1])"
            ]
          },
          "metadata": {
            "tags": []
          },
          "execution_count": 88
        }
      ]
    },
    {
      "cell_type": "code",
      "metadata": {
        "colab": {
          "base_uri": "https://localhost:8080/"
        },
        "id": "bMt3jSlXa7pn",
        "outputId": "9fe42235-83eb-4b82-f61a-62db3f700d5d"
      },
      "source": [
        "if(a==1):\n",
        "    print(\"Uninfected\")\n",
        "else:\n",
        "    print(\"Infected\")"
      ],
      "execution_count": 89,
      "outputs": [
        {
          "output_type": "stream",
          "text": [
            "Uninfected\n"
          ],
          "name": "stdout"
        }
      ]
    },
    {
      "cell_type": "code",
      "metadata": {
        "id": "--iplij9nEe9"
      },
      "source": [
        ""
      ],
      "execution_count": null,
      "outputs": []
    }
  ]
}