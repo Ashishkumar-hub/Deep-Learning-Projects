{
  "nbformat": 4,
  "nbformat_minor": 0,
  "metadata": {
    "kernelspec": {
      "display_name": "Python 3",
      "language": "python",
      "name": "python3"
    },
    "language_info": {
      "codemirror_mode": {
        "name": "ipython",
        "version": 3
      },
      "file_extension": ".py",
      "mimetype": "text/x-python",
      "name": "python",
      "nbconvert_exporter": "python",
      "pygments_lexer": "ipython3",
      "version": "3.7.4"
    },
    "colab": {
      "name": "Malaria Detection CNN.ipynb",
      "provenance": [],
      "collapsed_sections": []
    },
    "accelerator": "GPU"
  },
  "cells": [
    {
      "cell_type": "markdown",
      "metadata": {
        "id": "fLJi6ip7n1qx"
      },
      "source": [
        "## Creating CNN Using Scratch "
      ]
    },
    {
      "cell_type": "code",
      "metadata": {
        "id": "5uL3gVBcn1q9"
      },
      "source": [
        "# import the libraries as shown below\n",
        "\n",
        "from tensorflow.keras.layers import Input, Lambda, Dense, Flatten,Conv2D\n",
        "from tensorflow.keras.models import Model\n",
        "from tensorflow.keras.applications.vgg19 import VGG19\n",
        "from tensorflow.keras.applications.resnet50 import preprocess_input\n",
        "from tensorflow.keras.preprocessing import image\n",
        "from tensorflow.keras.preprocessing.image import ImageDataGenerator,load_img\n",
        "from tensorflow.keras.models import Sequential\n",
        "import numpy as np\n",
        "from glob import glob\n",
        "import matplotlib.pyplot as plt"
      ],
      "execution_count": null,
      "outputs": []
    },
    {
      "cell_type": "code",
      "metadata": {
        "colab": {
          "base_uri": "https://localhost:8080/"
        },
        "id": "0tsAExoen8RK",
        "outputId": "d38be506-279e-4741-8a72-74ec5f5ed3d5"
      },
      "source": [
        "from google.colab import drive\r\n",
        "drive.mount('/content/drive/')"
      ],
      "execution_count": null,
      "outputs": [
        {
          "output_type": "stream",
          "text": [
            "Mounted at /content/drive/\n"
          ],
          "name": "stdout"
        }
      ]
    },
    {
      "cell_type": "code",
      "metadata": {
        "id": "7hV1EPyIa7pe"
      },
      "source": [
        "# re-size all the images to this\n",
        "IMAGE_SIZE = [224, 224]\n",
        "\n",
        "train_path = '/content/drive/MyDrive/Colab Notebooks/Dataset/Train'\n",
        "valid_path = '/content/drive/MyDrive/Colab Notebooks/Dataset/Test'\n"
      ],
      "execution_count": null,
      "outputs": []
    },
    {
      "cell_type": "code",
      "metadata": {
        "id": "bxH1k25-n1rB"
      },
      "source": [
        "from tensorflow.keras.layers import MaxPooling2D"
      ],
      "execution_count": null,
      "outputs": []
    },
    {
      "cell_type": "code",
      "metadata": {
        "colab": {
          "base_uri": "https://localhost:8080/"
        },
        "id": "2F2PeGMJn1rB",
        "outputId": "cfb12fbf-c35d-4322-a91f-237f27129d85"
      },
      "source": [
        "### Create Model from scratch using CNN\n",
        "model=Sequential()\n",
        "model.add(Conv2D(filters=16,kernel_size=2,padding=\"same\",activation=\"relu\",input_shape=(224,224,3)))\n",
        "model.add(MaxPooling2D(pool_size=2))\n",
        "model.add(Conv2D(filters=32,kernel_size=2,padding=\"same\",activation =\"relu\"))\n",
        "model.add(MaxPooling2D(pool_size=2))\n",
        "model.add(Conv2D(filters=64,kernel_size=2,padding=\"same\",activation=\"relu\"))\n",
        "model.add(MaxPooling2D(pool_size=2))\n",
        "model.add(Flatten())\n",
        "model.add(Dense(500,activation=\"relu\"))\n",
        "model.add(Dense(2,activation=\"softmax\"))\n",
        "model.summary()"
      ],
      "execution_count": null,
      "outputs": [
        {
          "output_type": "stream",
          "text": [
            "Model: \"sequential\"\n",
            "_________________________________________________________________\n",
            "Layer (type)                 Output Shape              Param #   \n",
            "=================================================================\n",
            "conv2d (Conv2D)              (None, 224, 224, 16)      208       \n",
            "_________________________________________________________________\n",
            "max_pooling2d (MaxPooling2D) (None, 112, 112, 16)      0         \n",
            "_________________________________________________________________\n",
            "conv2d_1 (Conv2D)            (None, 112, 112, 32)      2080      \n",
            "_________________________________________________________________\n",
            "max_pooling2d_1 (MaxPooling2 (None, 56, 56, 32)        0         \n",
            "_________________________________________________________________\n",
            "conv2d_2 (Conv2D)            (None, 56, 56, 64)        8256      \n",
            "_________________________________________________________________\n",
            "max_pooling2d_2 (MaxPooling2 (None, 28, 28, 64)        0         \n",
            "_________________________________________________________________\n",
            "flatten (Flatten)            (None, 50176)             0         \n",
            "_________________________________________________________________\n",
            "dense (Dense)                (None, 500)               25088500  \n",
            "_________________________________________________________________\n",
            "dense_1 (Dense)              (None, 2)                 1002      \n",
            "=================================================================\n",
            "Total params: 25,100,046\n",
            "Trainable params: 25,100,046\n",
            "Non-trainable params: 0\n",
            "_________________________________________________________________\n"
          ],
          "name": "stdout"
        }
      ]
    },
    {
      "cell_type": "code",
      "metadata": {
        "id": "ZNeahrKVn1rB"
      },
      "source": [
        "# tell the model what cost and optimization method to use\n",
        "model.compile(\n",
        "  loss='categorical_crossentropy',\n",
        "  optimizer='adam',\n",
        "  metrics=['accuracy']\n",
        ")\n"
      ],
      "execution_count": null,
      "outputs": []
    },
    {
      "cell_type": "code",
      "metadata": {
        "id": "FDqVDJX8n1rB"
      },
      "source": [
        "# Use the Image Data Generator to import the images from the dataset\n",
        "from tensorflow.keras.preprocessing.image import ImageDataGenerator\n",
        "\n",
        "train_datagen = ImageDataGenerator(rescale = 1./255,\n",
        "                                   shear_range = 0.2,\n",
        "                                   zoom_range = 0.2,\n",
        "                                   horizontal_flip = True)\n",
        "\n",
        "test_datagen = ImageDataGenerator(rescale = 1./255)\n"
      ],
      "execution_count": null,
      "outputs": []
    },
    {
      "cell_type": "code",
      "metadata": {
        "colab": {
          "base_uri": "https://localhost:8080/"
        },
        "id": "2NLCVCYHa7pi",
        "outputId": "d1f45ff0-b05a-4d40-ce87-856db772641d"
      },
      "source": [
        "# Make sure you provide the same target size as initialied for the image size\n",
        "training_set = train_datagen.flow_from_directory('/content/drive/MyDrive/Colab Notebooks/Dataset/Train',\n",
        "                                                 target_size = (224, 224),\n",
        "                                                 batch_size = 32,\n",
        "                                                 class_mode = 'categorical')"
      ],
      "execution_count": null,
      "outputs": [
        {
          "output_type": "stream",
          "text": [
            "Found 416 images belonging to 2 classes.\n"
          ],
          "name": "stdout"
        }
      ]
    },
    {
      "cell_type": "code",
      "metadata": {
        "colab": {
          "base_uri": "https://localhost:8080/"
        },
        "id": "WKf2mOP_n1rC",
        "outputId": "b6ee2210-3ae2-4462-dc11-7ace4f340046"
      },
      "source": [
        "training_set"
      ],
      "execution_count": null,
      "outputs": [
        {
          "output_type": "execute_result",
          "data": {
            "text/plain": [
              "<tensorflow.python.keras.preprocessing.image.DirectoryIterator at 0x7f11ab461208>"
            ]
          },
          "metadata": {
            "tags": []
          },
          "execution_count": 10
        }
      ]
    },
    {
      "cell_type": "code",
      "metadata": {
        "colab": {
          "base_uri": "https://localhost:8080/"
        },
        "id": "AS8r3agta7pj",
        "outputId": "8594a442-7a75-4406-c520-5eb65b28e772"
      },
      "source": [
        "test_set = test_datagen.flow_from_directory('/content/drive/MyDrive/Colab Notebooks/Dataset/Test',\n",
        "                                            target_size = (224, 224),\n",
        "                                            batch_size = 32,\n",
        "                                            class_mode = 'categorical')"
      ],
      "execution_count": null,
      "outputs": [
        {
          "output_type": "stream",
          "text": [
            "Found 134 images belonging to 2 classes.\n"
          ],
          "name": "stdout"
        }
      ]
    },
    {
      "cell_type": "code",
      "metadata": {
        "scrolled": true,
        "colab": {
          "base_uri": "https://localhost:8080/"
        },
        "id": "5xIFx9fWn1rC",
        "outputId": "04907de7-87ad-4aef-dadc-3d9dae3bbdc9"
      },
      "source": [
        "# fit the model\n",
        "# Run the cell. It will take some time to execute\n",
        "r = model.fit_generator(\n",
        "  training_set,\n",
        "  validation_data=test_set,\n",
        "  epochs=50,\n",
        "  steps_per_epoch=len(training_set),\n",
        "  validation_steps=len(test_set)\n",
        ")"
      ],
      "execution_count": null,
      "outputs": [
        {
          "output_type": "stream",
          "text": [
            "/usr/local/lib/python3.6/dist-packages/tensorflow/python/keras/engine/training.py:1844: UserWarning: `Model.fit_generator` is deprecated and will be removed in a future version. Please use `Model.fit`, which supports generators.\n",
            "  warnings.warn('`Model.fit_generator` is deprecated and '\n"
          ],
          "name": "stderr"
        },
        {
          "output_type": "stream",
          "text": [
            "Epoch 1/50\n",
            "13/13 [==============================] - 87s 6s/step - loss: 1.0541 - accuracy: 0.5526 - val_loss: 0.7364 - val_accuracy: 0.6642\n",
            "Epoch 2/50\n",
            "13/13 [==============================] - 5s 409ms/step - loss: 0.5228 - accuracy: 0.7267 - val_loss: 1.1968 - val_accuracy: 0.3582\n",
            "Epoch 3/50\n",
            "13/13 [==============================] - 5s 408ms/step - loss: 0.4409 - accuracy: 0.7712 - val_loss: 1.2744 - val_accuracy: 0.3955\n",
            "Epoch 4/50\n",
            "13/13 [==============================] - 5s 408ms/step - loss: 0.4539 - accuracy: 0.7732 - val_loss: 0.7863 - val_accuracy: 0.5821\n",
            "Epoch 5/50\n",
            "13/13 [==============================] - 5s 420ms/step - loss: 0.4197 - accuracy: 0.8183 - val_loss: 0.6390 - val_accuracy: 0.6269\n",
            "Epoch 6/50\n",
            "13/13 [==============================] - 5s 409ms/step - loss: 0.3204 - accuracy: 0.8718 - val_loss: 0.7252 - val_accuracy: 0.5896\n",
            "Epoch 7/50\n",
            "13/13 [==============================] - 5s 412ms/step - loss: 0.2687 - accuracy: 0.8982 - val_loss: 0.6868 - val_accuracy: 0.6194\n",
            "Epoch 8/50\n",
            "13/13 [==============================] - 5s 414ms/step - loss: 0.2668 - accuracy: 0.9010 - val_loss: 0.7497 - val_accuracy: 0.6716\n",
            "Epoch 9/50\n",
            "13/13 [==============================] - 5s 409ms/step - loss: 0.1531 - accuracy: 0.9465 - val_loss: 0.5469 - val_accuracy: 0.7612\n",
            "Epoch 10/50\n",
            "13/13 [==============================] - 5s 405ms/step - loss: 0.1893 - accuracy: 0.9514 - val_loss: 0.3996 - val_accuracy: 0.8507\n",
            "Epoch 11/50\n",
            "13/13 [==============================] - 5s 404ms/step - loss: 0.1418 - accuracy: 0.9515 - val_loss: 0.4097 - val_accuracy: 0.8209\n",
            "Epoch 12/50\n",
            "13/13 [==============================] - 5s 403ms/step - loss: 0.1410 - accuracy: 0.9526 - val_loss: 0.4000 - val_accuracy: 0.8284\n",
            "Epoch 13/50\n",
            "13/13 [==============================] - 5s 405ms/step - loss: 0.1090 - accuracy: 0.9609 - val_loss: 0.5433 - val_accuracy: 0.7836\n",
            "Epoch 14/50\n",
            "13/13 [==============================] - 5s 404ms/step - loss: 0.1238 - accuracy: 0.9653 - val_loss: 0.3754 - val_accuracy: 0.8507\n",
            "Epoch 15/50\n",
            "13/13 [==============================] - 5s 406ms/step - loss: 0.0742 - accuracy: 0.9682 - val_loss: 0.1998 - val_accuracy: 0.9179\n",
            "Epoch 16/50\n",
            "13/13 [==============================] - 5s 409ms/step - loss: 0.1273 - accuracy: 0.9556 - val_loss: 0.2572 - val_accuracy: 0.8955\n",
            "Epoch 17/50\n",
            "13/13 [==============================] - 5s 410ms/step - loss: 0.1172 - accuracy: 0.9796 - val_loss: 0.4411 - val_accuracy: 0.8582\n",
            "Epoch 18/50\n",
            "13/13 [==============================] - 5s 407ms/step - loss: 0.1405 - accuracy: 0.9413 - val_loss: 0.4861 - val_accuracy: 0.8209\n",
            "Epoch 19/50\n",
            "13/13 [==============================] - 5s 406ms/step - loss: 0.1568 - accuracy: 0.9407 - val_loss: 0.5189 - val_accuracy: 0.8284\n",
            "Epoch 20/50\n",
            "13/13 [==============================] - 5s 406ms/step - loss: 0.0723 - accuracy: 0.9807 - val_loss: 0.2201 - val_accuracy: 0.9104\n",
            "Epoch 21/50\n",
            "13/13 [==============================] - 5s 410ms/step - loss: 0.0747 - accuracy: 0.9859 - val_loss: 0.3522 - val_accuracy: 0.8731\n",
            "Epoch 22/50\n",
            "13/13 [==============================] - 5s 411ms/step - loss: 0.0660 - accuracy: 0.9771 - val_loss: 0.2296 - val_accuracy: 0.9179\n",
            "Epoch 23/50\n",
            "13/13 [==============================] - 5s 412ms/step - loss: 0.0925 - accuracy: 0.9780 - val_loss: 0.2183 - val_accuracy: 0.9104\n",
            "Epoch 24/50\n",
            "13/13 [==============================] - 5s 408ms/step - loss: 0.0831 - accuracy: 0.9879 - val_loss: 0.3504 - val_accuracy: 0.8657\n",
            "Epoch 25/50\n",
            "13/13 [==============================] - 5s 404ms/step - loss: 0.0797 - accuracy: 0.9754 - val_loss: 0.2357 - val_accuracy: 0.8955\n",
            "Epoch 26/50\n",
            "13/13 [==============================] - 5s 402ms/step - loss: 0.0734 - accuracy: 0.9801 - val_loss: 0.4061 - val_accuracy: 0.8881\n",
            "Epoch 27/50\n",
            "13/13 [==============================] - 5s 410ms/step - loss: 0.0340 - accuracy: 0.9867 - val_loss: 0.2295 - val_accuracy: 0.9104\n",
            "Epoch 28/50\n",
            "13/13 [==============================] - 5s 404ms/step - loss: 0.0395 - accuracy: 0.9931 - val_loss: 0.3123 - val_accuracy: 0.8955\n",
            "Epoch 29/50\n",
            "13/13 [==============================] - 5s 408ms/step - loss: 0.0475 - accuracy: 0.9866 - val_loss: 0.2966 - val_accuracy: 0.9030\n",
            "Epoch 30/50\n",
            "13/13 [==============================] - 5s 417ms/step - loss: 0.0300 - accuracy: 0.9908 - val_loss: 0.2590 - val_accuracy: 0.9104\n",
            "Epoch 31/50\n",
            "13/13 [==============================] - 5s 408ms/step - loss: 0.0475 - accuracy: 0.9845 - val_loss: 0.2764 - val_accuracy: 0.8881\n",
            "Epoch 32/50\n",
            "13/13 [==============================] - 5s 411ms/step - loss: 0.0736 - accuracy: 0.9893 - val_loss: 0.1855 - val_accuracy: 0.9478\n",
            "Epoch 33/50\n",
            "13/13 [==============================] - 5s 410ms/step - loss: 0.0809 - accuracy: 0.9865 - val_loss: 0.2380 - val_accuracy: 0.9030\n",
            "Epoch 34/50\n",
            "13/13 [==============================] - 5s 412ms/step - loss: 0.0825 - accuracy: 0.9854 - val_loss: 0.1839 - val_accuracy: 0.9403\n",
            "Epoch 35/50\n",
            "13/13 [==============================] - 5s 411ms/step - loss: 0.0418 - accuracy: 0.9922 - val_loss: 0.3216 - val_accuracy: 0.8881\n",
            "Epoch 36/50\n",
            "13/13 [==============================] - 5s 408ms/step - loss: 0.0361 - accuracy: 0.9872 - val_loss: 0.5318 - val_accuracy: 0.8657\n",
            "Epoch 37/50\n",
            "13/13 [==============================] - 5s 406ms/step - loss: 0.1071 - accuracy: 0.9642 - val_loss: 0.2149 - val_accuracy: 0.9104\n",
            "Epoch 38/50\n",
            "13/13 [==============================] - 5s 417ms/step - loss: 0.0506 - accuracy: 0.9900 - val_loss: 0.2679 - val_accuracy: 0.9179\n",
            "Epoch 39/50\n",
            "13/13 [==============================] - 5s 412ms/step - loss: 0.0398 - accuracy: 0.9927 - val_loss: 0.5143 - val_accuracy: 0.8507\n",
            "Epoch 40/50\n",
            "13/13 [==============================] - 5s 411ms/step - loss: 0.1201 - accuracy: 0.9433 - val_loss: 0.3225 - val_accuracy: 0.9030\n",
            "Epoch 41/50\n",
            "13/13 [==============================] - 5s 409ms/step - loss: 0.0316 - accuracy: 0.9993 - val_loss: 0.3821 - val_accuracy: 0.9030\n",
            "Epoch 42/50\n",
            "13/13 [==============================] - 5s 412ms/step - loss: 0.0255 - accuracy: 0.9955 - val_loss: 0.3108 - val_accuracy: 0.9030\n",
            "Epoch 43/50\n",
            "13/13 [==============================] - 5s 410ms/step - loss: 0.0347 - accuracy: 0.9921 - val_loss: 0.3958 - val_accuracy: 0.8806\n",
            "Epoch 44/50\n",
            "13/13 [==============================] - 5s 409ms/step - loss: 0.0287 - accuracy: 0.9978 - val_loss: 0.2484 - val_accuracy: 0.9179\n",
            "Epoch 45/50\n",
            "13/13 [==============================] - 5s 410ms/step - loss: 0.0284 - accuracy: 0.9939 - val_loss: 0.6766 - val_accuracy: 0.8657\n",
            "Epoch 46/50\n",
            "13/13 [==============================] - 5s 410ms/step - loss: 0.0489 - accuracy: 0.9821 - val_loss: 0.1848 - val_accuracy: 0.9478\n",
            "Epoch 47/50\n",
            "13/13 [==============================] - 5s 411ms/step - loss: 0.0722 - accuracy: 0.9829 - val_loss: 0.4186 - val_accuracy: 0.8806\n",
            "Epoch 48/50\n",
            "13/13 [==============================] - 5s 410ms/step - loss: 0.0480 - accuracy: 0.9848 - val_loss: 0.6864 - val_accuracy: 0.8731\n",
            "Epoch 49/50\n",
            "13/13 [==============================] - 5s 413ms/step - loss: 0.0994 - accuracy: 0.9689 - val_loss: 0.1877 - val_accuracy: 0.9328\n",
            "Epoch 50/50\n",
            "13/13 [==============================] - 5s 409ms/step - loss: 0.0332 - accuracy: 0.9944 - val_loss: 0.4407 - val_accuracy: 0.8955\n"
          ],
          "name": "stdout"
        }
      ]
    },
    {
      "cell_type": "code",
      "metadata": {
        "id": "eUz638W2n1rD"
      },
      "source": [
        ""
      ],
      "execution_count": null,
      "outputs": []
    },
    {
      "cell_type": "code",
      "metadata": {
        "colab": {
          "base_uri": "https://localhost:8080/",
          "height": 530
        },
        "id": "0dDKFZHJn1rD",
        "outputId": "b186bfec-650a-4a46-e0e4-73571b6784da"
      },
      "source": [
        "# plot the loss\n",
        "plt.plot(r.history['loss'], label='train loss')\n",
        "plt.plot(r.history['val_loss'], label='val loss')\n",
        "plt.legend()\n",
        "plt.show()\n",
        "plt.savefig('LossVal_loss')\n",
        "\n",
        "# plot the accuracy\n",
        "plt.plot(r.history['accuracy'], label='train acc')\n",
        "plt.plot(r.history['val_accuracy'], label='val acc')\n",
        "plt.legend()\n",
        "plt.show()\n",
        "plt.savefig('AccVal_acc')"
      ],
      "execution_count": null,
      "outputs": [
        {
          "output_type": "display_data",
          "data": {
            "image/png": "[encoded data removed]",
            "text/plain": [
              "<Figure size 432x288 with 1 Axes>"
            ]
          },
          "metadata": {
            "tags": [],
            "needs_background": "light"
          }
        },
        {
          "output_type": "display_data",
          "data": {
            "image/png": "[encoded data removed]",
            "text/plain": [
              "<Figure size 432x288 with 1 Axes>"
            ]
          },
          "metadata": {
            "tags": [],
            "needs_background": "light"
          }
        },
        {
          "output_type": "display_data",
          "data": {
            "text/plain": [
              "<Figure size 432x288 with 0 Axes>"
            ]
          },
          "metadata": {
            "tags": []
          }
        }
      ]
    },
    {
      "cell_type": "code",
      "metadata": {
        "id": "6DHQbwIwn1rD"
      },
      "source": [
        "# save it as a h5 file\n",
        "\n",
        "\n",
        "from tensorflow.keras.models import load_model\n",
        "\n",
        "model.save('model_vgg19.h5')"
      ],
      "execution_count": null,
      "outputs": []
    },
    {
      "cell_type": "code",
      "metadata": {
        "id": "7y3k2P-3n1rD"
      },
      "source": [
        "\n",
        "y_pred = model.predict(test_set)\n"
      ],
      "execution_count": null,
      "outputs": []
    },
    {
      "cell_type": "code",
      "metadata": {
        "colab": {
          "base_uri": "https://localhost:8080/"
        },
        "id": "NXLmLFTLn1rE",
        "outputId": "91c6e9a3-82c0-433e-ef03-441a5ab53b49"
      },
      "source": [
        "y_pred"
      ],
      "execution_count": null,
      "outputs": [
        {
          "output_type": "execute_result",
          "data": {
            "text/plain": [
              "array([[4.3632207e-03, 9.9563676e-01],\n",
              "       [1.0000000e+00, 2.9756853e-09],\n",
              "       [9.9992681e-01, 7.3222924e-05],\n",
              "       [9.9998772e-01, 1.2309944e-05],\n",
              "       [9.9949014e-01, 5.0987437e-04],\n",
              "       [6.1653131e-03, 9.9383473e-01],\n",
              "       [1.2427411e-02, 9.8757255e-01],\n",
              "       [2.9178741e-03, 9.9708205e-01],\n",
              "       [9.9999678e-01, 3.1765007e-06],\n",
              "       [4.2348951e-02, 9.5765108e-01],\n",
              "       [1.0000000e+00, 3.6882905e-10],\n",
              "       [9.2277927e-03, 9.9077225e-01],\n",
              "       [9.9999082e-01, 9.1315715e-06],\n",
              "       [1.0000000e+00, 2.7225449e-09],\n",
              "       [9.6789616e-01, 3.2103851e-02],\n",
              "       [9.9992239e-01, 7.7614517e-05],\n",
              "       [1.0000000e+00, 7.9217431e-21],\n",
              "       [1.0000000e+00, 4.2049195e-10],\n",
              "       [9.9999702e-01, 2.9269502e-06],\n",
              "       [9.9995935e-01, 4.0650746e-05],\n",
              "       [9.7849192e-03, 9.9021506e-01],\n",
              "       [1.5246281e-01, 8.4753722e-01],\n",
              "       [9.9986100e-01, 1.3899856e-04],\n",
              "       [1.0000000e+00, 1.3084471e-22],\n",
              "       [1.0000000e+00, 1.9895676e-12],\n",
              "       [9.9984682e-01, 1.5318071e-04],\n",
              "       [9.9997818e-01, 2.1769130e-05],\n",
              "       [1.0000000e+00, 9.6592900e-10],\n",
              "       [2.0227989e-03, 9.9797720e-01],\n",
              "       [8.4296334e-01, 1.5703665e-01],\n",
              "       [9.9996114e-01, 3.8840808e-05],\n",
              "       [9.9999893e-01, 1.1143572e-06],\n",
              "       [9.9993134e-01, 6.8686466e-05],\n",
              "       [9.9969912e-01, 3.0096649e-04],\n",
              "       [9.9963188e-01, 3.6814733e-04],\n",
              "       [1.0000000e+00, 1.9747837e-21],\n",
              "       [3.6007569e-03, 9.9639928e-01],\n",
              "       [9.9994195e-01, 5.8097481e-05],\n",
              "       [3.5775304e-02, 9.6422464e-01],\n",
              "       [4.3340237e-03, 9.9566597e-01],\n",
              "       [5.8280188e-01, 4.1719806e-01],\n",
              "       [4.6721245e-03, 9.9532783e-01],\n",
              "       [9.9812442e-01, 1.8755399e-03],\n",
              "       [3.5800254e-03, 9.9642003e-01],\n",
              "       [9.9944609e-01, 5.5388932e-04],\n",
              "       [2.0839660e-03, 9.9791604e-01],\n",
              "       [4.5360457e-03, 9.9546403e-01],\n",
              "       [9.9941182e-01, 5.8819354e-04],\n",
              "       [7.7169077e-03, 9.9228305e-01],\n",
              "       [9.8917773e-04, 9.9901080e-01],\n",
              "       [9.9997509e-01, 2.4908823e-05],\n",
              "       [9.9999094e-01, 9.0771500e-06],\n",
              "       [9.9995387e-01, 4.6108962e-05],\n",
              "       [9.9999058e-01, 9.3712897e-06],\n",
              "       [9.6614277e-01, 3.3857197e-02],\n",
              "       [3.8374123e-01, 6.1625874e-01],\n",
              "       [4.7530928e-03, 9.9524695e-01],\n",
              "       [9.9994743e-01, 5.2607054e-05],\n",
              "       [1.0000000e+00, 1.2076520e-09],\n",
              "       [3.0082189e-03, 9.9699175e-01],\n",
              "       [1.9999491e-03, 9.9800009e-01],\n",
              "       [5.1176447e-01, 4.8823550e-01],\n",
              "       [4.2740242e-03, 9.9572599e-01],\n",
              "       [3.0300927e-03, 9.9696988e-01],\n",
              "       [1.0000000e+00, 5.4111826e-10],\n",
              "       [1.9317018e-03, 9.9806827e-01],\n",
              "       [9.9764866e-01, 2.3513418e-03],\n",
              "       [9.9992967e-01, 7.0285161e-05],\n",
              "       [2.9615631e-02, 9.7038436e-01],\n",
              "       [9.9996543e-01, 3.4576697e-05],\n",
              "       [9.9977785e-01, 2.2219952e-04],\n",
              "       [1.0000000e+00, 5.4511089e-09],\n",
              "       [1.0000000e+00, 2.3963784e-15],\n",
              "       [2.6207541e-03, 9.9737930e-01],\n",
              "       [3.1241449e-03, 9.9687588e-01],\n",
              "       [1.8774677e-02, 9.8122531e-01],\n",
              "       [1.5234279e-03, 9.9847656e-01],\n",
              "       [9.9946791e-01, 5.3205836e-04],\n",
              "       [4.2358655e-03, 9.9576414e-01],\n",
              "       [2.6945609e-03, 9.9730539e-01],\n",
              "       [7.9079280e-03, 9.9209213e-01],\n",
              "       [6.8349713e-03, 9.9316508e-01],\n",
              "       [6.1833742e-03, 9.9381655e-01],\n",
              "       [2.1207246e-03, 9.9787927e-01],\n",
              "       [9.9977392e-01, 2.2606485e-04],\n",
              "       [6.4098523e-03, 9.9359012e-01],\n",
              "       [9.9846715e-01, 1.5328208e-03],\n",
              "       [9.9956208e-01, 4.3795229e-04],\n",
              "       [9.9999988e-01, 1.6294014e-07],\n",
              "       [9.9999750e-01, 2.4639226e-06],\n",
              "       [9.9995160e-01, 4.8391907e-05],\n",
              "       [1.0000000e+00, 1.2740570e-08],\n",
              "       [1.0000000e+00, 9.3858175e-09],\n",
              "       [9.9994767e-01, 5.2306310e-05],\n",
              "       [9.3556458e-01, 6.4435445e-02],\n",
              "       [9.9999630e-01, 3.7481782e-06],\n",
              "       [2.1610681e-03, 9.9783891e-01],\n",
              "       [2.7257251e-03, 9.9727422e-01],\n",
              "       [3.9647287e-03, 9.9603528e-01],\n",
              "       [5.8913562e-03, 9.9410868e-01],\n",
              "       [9.9846125e-01, 1.5388116e-03],\n",
              "       [3.5271002e-03, 9.9647290e-01],\n",
              "       [9.9753356e-01, 2.4663750e-03],\n",
              "       [5.6727123e-03, 9.9432725e-01],\n",
              "       [3.1774307e-03, 9.9682260e-01],\n",
              "       [3.3488953e-03, 9.9665111e-01],\n",
              "       [1.0000000e+00, 1.2408364e-08],\n",
              "       [1.0000000e+00, 5.8760434e-11],\n",
              "       [3.8424891e-03, 9.9615759e-01],\n",
              "       [1.0000000e+00, 5.4963470e-20],\n",
              "       [1.0000000e+00, 3.7946496e-10],\n",
              "       [9.9999535e-01, 4.6244377e-06],\n",
              "       [7.0234984e-03, 9.9297649e-01],\n",
              "       [9.9947661e-01, 5.2343408e-04],\n",
              "       [9.9999964e-01, 3.3327925e-07],\n",
              "       [3.8777731e-02, 9.6122229e-01],\n",
              "       [9.9999952e-01, 4.7846197e-07],\n",
              "       [2.5765982e-03, 9.9742341e-01],\n",
              "       [1.2347440e-02, 9.8765254e-01],\n",
              "       [9.9981195e-01, 1.8808899e-04],\n",
              "       [9.9881661e-01, 1.1834613e-03],\n",
              "       [2.8419243e-03, 9.9715805e-01],\n",
              "       [9.9621153e-01, 3.7885157e-03],\n",
              "       [1.0000000e+00, 2.7709076e-18],\n",
              "       [9.9941218e-01, 5.8780983e-04],\n",
              "       [3.2709036e-03, 9.9672914e-01],\n",
              "       [2.4777940e-03, 9.9752218e-01],\n",
              "       [1.5931006e-03, 9.9840695e-01],\n",
              "       [9.9997985e-01, 2.0116680e-05],\n",
              "       [2.0267032e-03, 9.9797326e-01],\n",
              "       [2.4571767e-02, 9.7542828e-01],\n",
              "       [9.9978632e-01, 2.1373242e-04],\n",
              "       [1.8542966e-02, 9.8145700e-01],\n",
              "       [9.9999630e-01, 3.6704939e-06]], dtype=float32)"
            ]
          },
          "metadata": {
            "tags": []
          },
          "execution_count": 17
        }
      ]
    },
    {
      "cell_type": "code",
      "metadata": {
        "id": "0Ye3932In1rE"
      },
      "source": [
        "import numpy as np\n",
        "y_pred = np.argmax(y_pred, axis=1)"
      ],
      "execution_count": null,
      "outputs": []
    },
    {
      "cell_type": "code",
      "metadata": {
        "colab": {
          "base_uri": "https://localhost:8080/"
        },
        "id": "ali16cJDn1rE",
        "outputId": "665a3e31-8f7b-4eb6-d797-132c20881efe"
      },
      "source": [
        "y_pred"
      ],
      "execution_count": null,
      "outputs": [
        {
          "output_type": "execute_result",
          "data": {
            "text/plain": [
              "array([1, 0, 0, 0, 0, 1, 1, 1, 0, 1, 0, 1, 0, 0, 0, 0, 0, 0, 0, 0, 1, 1,\n",
              "       0, 0, 0, 0, 0, 0, 1, 0, 0, 0, 0, 0, 0, 0, 1, 0, 1, 1, 0, 1, 0, 1,\n",
              "       0, 1, 1, 0, 1, 1, 0, 0, 0, 0, 0, 1, 1, 0, 0, 1, 1, 0, 1, 1, 0, 1,\n",
              "       0, 0, 1, 0, 0, 0, 0, 1, 1, 1, 1, 0, 1, 1, 1, 1, 1, 1, 0, 1, 0, 0,\n",
              "       0, 0, 0, 0, 0, 0, 0, 0, 1, 1, 1, 1, 0, 1, 0, 1, 1, 1, 0, 0, 1, 0,\n",
              "       0, 0, 1, 0, 0, 1, 0, 1, 1, 0, 0, 1, 0, 0, 0, 1, 1, 1, 0, 1, 1, 0,\n",
              "       1, 0])"
            ]
          },
          "metadata": {
            "tags": []
          },
          "execution_count": 19
        }
      ]
    },
    {
      "cell_type": "code",
      "metadata": {
        "id": "k5wZoyS-n1rE"
      },
      "source": [
        ""
      ],
      "execution_count": null,
      "outputs": []
    },
    {
      "cell_type": "code",
      "metadata": {
        "id": "iAZH54Qsn1rE"
      },
      "source": [
        "from tensorflow.keras.models import load_model\n",
        "from tensorflow.keras.preprocessing import image"
      ],
      "execution_count": null,
      "outputs": []
    },
    {
      "cell_type": "code",
      "metadata": {
        "id": "cPvhNoQJn1rF"
      },
      "source": [
        "model=load_model('model_vgg19.h5')"
      ],
      "execution_count": null,
      "outputs": []
    },
    {
      "cell_type": "code",
      "metadata": {
        "id": "se96yFbjn1rF"
      },
      "source": [
        ""
      ],
      "execution_count": null,
      "outputs": []
    },
    {
      "cell_type": "code",
      "metadata": {
        "id": "aU6j8s_Ta7pl"
      },
      "source": [
        "img=image.load_img('/content/drive/MyDrive/Colab Notebooks/Dataset/Test/Uninfected/2.png',target_size=(224,224))\n",
        "\n"
      ],
      "execution_count": null,
      "outputs": []
    },
    {
      "cell_type": "code",
      "metadata": {
        "colab": {
          "base_uri": "https://localhost:8080/"
        },
        "id": "3zSMiw47n1rF",
        "outputId": "6199e30f-46f8-4041-d4f3-ff0c1bbae6cb"
      },
      "source": [
        "x=image.img_to_array(img)\n",
        "x"
      ],
      "execution_count": null,
      "outputs": [
        {
          "output_type": "execute_result",
          "data": {
            "text/plain": [
              "array([[[0., 0., 0.],\n",
              "        [0., 0., 0.],\n",
              "        [0., 0., 0.],\n",
              "        ...,\n",
              "        [0., 0., 0.],\n",
              "        [0., 0., 0.],\n",
              "        [0., 0., 0.]],\n",
              "\n",
              "       [[0., 0., 0.],\n",
              "        [0., 0., 0.],\n",
              "        [0., 0., 0.],\n",
              "        ...,\n",
              "        [0., 0., 0.],\n",
              "        [0., 0., 0.],\n",
              "        [0., 0., 0.]],\n",
              "\n",
              "       [[0., 0., 0.],\n",
              "        [0., 0., 0.],\n",
              "        [0., 0., 0.],\n",
              "        ...,\n",
              "        [0., 0., 0.],\n",
              "        [0., 0., 0.],\n",
              "        [0., 0., 0.]],\n",
              "\n",
              "       ...,\n",
              "\n",
              "       [[0., 0., 0.],\n",
              "        [0., 0., 0.],\n",
              "        [0., 0., 0.],\n",
              "        ...,\n",
              "        [0., 0., 0.],\n",
              "        [0., 0., 0.],\n",
              "        [0., 0., 0.]],\n",
              "\n",
              "       [[0., 0., 0.],\n",
              "        [0., 0., 0.],\n",
              "        [0., 0., 0.],\n",
              "        ...,\n",
              "        [0., 0., 0.],\n",
              "        [0., 0., 0.],\n",
              "        [0., 0., 0.]],\n",
              "\n",
              "       [[0., 0., 0.],\n",
              "        [0., 0., 0.],\n",
              "        [0., 0., 0.],\n",
              "        ...,\n",
              "        [0., 0., 0.],\n",
              "        [0., 0., 0.],\n",
              "        [0., 0., 0.]]], dtype=float32)"
            ]
          },
          "metadata": {
            "tags": []
          },
          "execution_count": 24
        }
      ]
    },
    {
      "cell_type": "code",
      "metadata": {
        "colab": {
          "base_uri": "https://localhost:8080/"
        },
        "id": "qEmyVmasn1rF",
        "outputId": "f566d9e6-439b-4127-d32a-50283e5018d4"
      },
      "source": [
        "x.shape"
      ],
      "execution_count": null,
      "outputs": [
        {
          "output_type": "execute_result",
          "data": {
            "text/plain": [
              "(224, 224, 3)"
            ]
          },
          "metadata": {
            "tags": []
          },
          "execution_count": 25
        }
      ]
    },
    {
      "cell_type": "code",
      "metadata": {
        "id": "B81VGaa3n1rG"
      },
      "source": [
        "x=x/255"
      ],
      "execution_count": null,
      "outputs": []
    },
    {
      "cell_type": "code",
      "metadata": {
        "colab": {
          "base_uri": "https://localhost:8080/"
        },
        "id": "Zttnwan6n1rG",
        "outputId": "05f77f15-5ed8-46cc-997a-76bb032676e6"
      },
      "source": [
        "x=np.expand_dims(x,axis=0)\n",
        "img_data=preprocess_input(x)\n",
        "img_data.shape"
      ],
      "execution_count": null,
      "outputs": [
        {
          "output_type": "execute_result",
          "data": {
            "text/plain": [
              "(1, 224, 224, 3)"
            ]
          },
          "metadata": {
            "tags": []
          },
          "execution_count": 27
        }
      ]
    },
    {
      "cell_type": "code",
      "metadata": {
        "colab": {
          "base_uri": "https://localhost:8080/"
        },
        "id": "wAhexvVln1rG",
        "outputId": "d6dead3e-59f0-451f-88d4-22a71813b84c"
      },
      "source": [
        "model.predict(img_data)"
      ],
      "execution_count": null,
      "outputs": [
        {
          "output_type": "execute_result",
          "data": {
            "text/plain": [
              "array([[1., 0.]], dtype=float32)"
            ]
          },
          "metadata": {
            "tags": []
          },
          "execution_count": 28
        }
      ]
    },
    {
      "cell_type": "code",
      "metadata": {
        "id": "_JlJIOVgn1rG"
      },
      "source": [
        "a=np.argmax(model.predict(img_data), axis=1)"
      ],
      "execution_count": null,
      "outputs": []
    },
    {
      "cell_type": "code",
      "metadata": {
        "colab": {
          "base_uri": "https://localhost:8080/"
        },
        "id": "3MgHuIdnn1rG",
        "outputId": "9b9e2151-184d-4ded-8fb7-8c50f1742b56"
      },
      "source": [
        "if(a==0):\n",
        "    print(\"Uninfected\")\n",
        "else:\n",
        "    print(\"Infected\")"
      ],
      "execution_count": null,
      "outputs": [
        {
          "output_type": "stream",
          "text": [
            "Uninfected\n"
          ],
          "name": "stdout"
        }
      ]
    },
    {
      "cell_type": "code",
      "metadata": {
        "id": "zxsWZ6ufn1rH"
      },
      "source": [
        ""
      ],
      "execution_count": null,
      "outputs": []
    }
  ]
}