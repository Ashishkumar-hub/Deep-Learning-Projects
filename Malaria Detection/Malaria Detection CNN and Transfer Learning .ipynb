{
 "cells": [
  {
   "cell_type": "markdown",
   "metadata": {},
   "source": [
    "## Creating CNN Using Scratch And Transfer Learning"
   ]
  },
  {
   "cell_type": "code",
   "execution_count": 98,
   "metadata": {},
   "outputs": [],
   "source": [
    "# importing the libraries \n",
    "\n",
    "from tensorflow.keras.layers import Input, Lambda, Dense, Flatten,Conv2D\n",
    "from tensorflow.keras.models import Model\n",
    "from tensorflow.keras.applications.vgg19 import VGG19\n",
    "from tensorflow.keras.applications.resnet50 import preprocess_input\n",
    "from tensorflow.keras.preprocessing import image\n",
    "from tensorflow.keras.preprocessing.image import ImageDataGenerator,load_img\n",
    "from tensorflow.keras.models import Sequential\n",
    "import numpy as np\n",
    "from glob import glob\n",
    "import matplotlib.pyplot as plt"
   ]
  },
  {
   "cell_type": "code",
   "execution_count": 99,
   "metadata": {},
   "outputs": [],
   "source": [
    "# resizing images\n",
    "IMAGE_SIZE = [224, 224]\n",
    "\n",
    "train_path = 'Dataset/Train'\n",
    "valid_path = 'Dataset/Test'\n"
   ]
  },
  {
   "cell_type": "code",
   "execution_count": 100,
   "metadata": {},
   "outputs": [],
   "source": [
    "# Import the Vgg 19 library as shown below and adding preprocessing layer to the front of VGG\n",
    "# Using imagenet weights\n",
    "\n",
    "VGG19 = VGG19(input_shape=IMAGE_SIZE + [3], weights='imagenet', include_top=False)\n"
   ]
  },
  {
   "cell_type": "code",
   "execution_count": 101,
   "metadata": {},
   "outputs": [],
   "source": [
    "# Not training existing weights\n",
    "for layer in VGG19.layers:\n",
    "    layer.trainable = False"
   ]
  },
  {
   "cell_type": "code",
   "execution_count": 102,
   "metadata": {},
   "outputs": [],
   "source": [
    "# useful for getting number of output classes\n",
    "folders = glob('Dataset/Train/*')"
   ]
  },
  {
   "cell_type": "code",
   "execution_count": 103,
   "metadata": {},
   "outputs": [
    {
     "data": {
      "text/plain": [
       "['Dataset/Train\\\\Parasite', 'Dataset/Train\\\\Uninfected']"
      ]
     },
     "execution_count": 103,
     "metadata": {},
     "output_type": "execute_result"
    }
   ],
   "source": [
    "folders"
   ]
  },
  {
   "cell_type": "code",
   "execution_count": 104,
   "metadata": {},
   "outputs": [],
   "source": [
    "# layers\n",
    "x = Flatten()(VGG19.output)"
   ]
  },
  {
   "cell_type": "code",
   "execution_count": 107,
   "metadata": {},
   "outputs": [],
   "source": [
    "prediction = Dense(len(folders), activation='softmax')(x)\n",
    "\n",
    "# creating model object\n",
    "model = Model(inputs=VGG19.input, outputs=prediction)"
   ]
  },
  {
   "cell_type": "code",
   "execution_count": 108,
   "metadata": {},
   "outputs": [
    {
     "name": "stdout",
     "output_type": "stream",
     "text": [
      "Model: \"model_2\"\n",
      "_________________________________________________________________\n",
      "Layer (type)                 Output Shape              Param #   \n",
      "=================================================================\n",
      "input_3 (InputLayer)         [(None, 224, 224, 3)]     0         \n",
      "_________________________________________________________________\n",
      "block1_conv1 (Conv2D)        (None, 224, 224, 64)      1792      \n",
      "_________________________________________________________________\n",
      "block1_conv2 (Conv2D)        (None, 224, 224, 64)      36928     \n",
      "_________________________________________________________________\n",
      "block1_pool (MaxPooling2D)   (None, 112, 112, 64)      0         \n",
      "_________________________________________________________________\n",
      "block2_conv1 (Conv2D)        (None, 112, 112, 128)     73856     \n",
      "_________________________________________________________________\n",
      "block2_conv2 (Conv2D)        (None, 112, 112, 128)     147584    \n",
      "_________________________________________________________________\n",
      "block2_pool (MaxPooling2D)   (None, 56, 56, 128)       0         \n",
      "_________________________________________________________________\n",
      "block3_conv1 (Conv2D)        (None, 56, 56, 256)       295168    \n",
      "_________________________________________________________________\n",
      "block3_conv2 (Conv2D)        (None, 56, 56, 256)       590080    \n",
      "_________________________________________________________________\n",
      "block3_conv3 (Conv2D)        (None, 56, 56, 256)       590080    \n",
      "_________________________________________________________________\n",
      "block3_conv4 (Conv2D)        (None, 56, 56, 256)       590080    \n",
      "_________________________________________________________________\n",
      "block3_pool (MaxPooling2D)   (None, 28, 28, 256)       0         \n",
      "_________________________________________________________________\n",
      "block4_conv1 (Conv2D)        (None, 28, 28, 512)       1180160   \n",
      "_________________________________________________________________\n",
      "block4_conv2 (Conv2D)        (None, 28, 28, 512)       2359808   \n",
      "_________________________________________________________________\n",
      "block4_conv3 (Conv2D)        (None, 28, 28, 512)       2359808   \n",
      "_________________________________________________________________\n",
      "block4_conv4 (Conv2D)        (None, 28, 28, 512)       2359808   \n",
      "_________________________________________________________________\n",
      "block4_pool (MaxPooling2D)   (None, 14, 14, 512)       0         \n",
      "_________________________________________________________________\n",
      "block5_conv1 (Conv2D)        (None, 14, 14, 512)       2359808   \n",
      "_________________________________________________________________\n",
      "block5_conv2 (Conv2D)        (None, 14, 14, 512)       2359808   \n",
      "_________________________________________________________________\n",
      "block5_conv3 (Conv2D)        (None, 14, 14, 512)       2359808   \n",
      "_________________________________________________________________\n",
      "block5_conv4 (Conv2D)        (None, 14, 14, 512)       2359808   \n",
      "_________________________________________________________________\n",
      "block5_pool (MaxPooling2D)   (None, 7, 7, 512)         0         \n",
      "_________________________________________________________________\n",
      "flatten_2 (Flatten)          (None, 25088)             0         \n",
      "_________________________________________________________________\n",
      "dense_4 (Dense)              (None, 2)                 50178     \n",
      "=================================================================\n",
      "Total params: 20,074,562\n",
      "Trainable params: 50,178\n",
      "Non-trainable params: 20,024,384\n",
      "_________________________________________________________________\n"
     ]
    }
   ],
   "source": [
    "# structure of the model\n",
    "model.summary()\n"
   ]
  },
  {
   "cell_type": "code",
   "execution_count": 12,
   "metadata": {},
   "outputs": [],
   "source": [
    "from tensorflow.keras.layers import MaxPooling2D"
   ]
  },
  {
   "cell_type": "code",
   "execution_count": 13,
   "metadata": {},
   "outputs": [
    {
     "name": "stdout",
     "output_type": "stream",
     "text": [
      "Model: \"sequential\"\n",
      "_________________________________________________________________\n",
      "Layer (type)                 Output Shape              Param #   \n",
      "=================================================================\n",
      "conv2d (Conv2D)              (None, 224, 224, 16)      208       \n",
      "_________________________________________________________________\n",
      "max_pooling2d (MaxPooling2D) (None, 112, 112, 16)      0         \n",
      "_________________________________________________________________\n",
      "conv2d_1 (Conv2D)            (None, 112, 112, 32)      2080      \n",
      "_________________________________________________________________\n",
      "max_pooling2d_1 (MaxPooling2 (None, 56, 56, 32)        0         \n",
      "_________________________________________________________________\n",
      "conv2d_2 (Conv2D)            (None, 56, 56, 64)        8256      \n",
      "_________________________________________________________________\n",
      "max_pooling2d_2 (MaxPooling2 (None, 28, 28, 64)        0         \n",
      "_________________________________________________________________\n",
      "flatten_1 (Flatten)          (None, 50176)             0         \n",
      "_________________________________________________________________\n",
      "dense_1 (Dense)              (None, 500)               25088500  \n",
      "_________________________________________________________________\n",
      "dense_2 (Dense)              (None, 2)                 1002      \n",
      "=================================================================\n",
      "Total params: 25,100,046\n",
      "Trainable params: 25,100,046\n",
      "Non-trainable params: 0\n",
      "_________________________________________________________________\n"
     ]
    }
   ],
   "source": [
    "### Creating Model from scratch using CNN\n",
    "model=Sequential()\n",
    "model.add(Conv2D(filters=16,kernel_size=2,padding=\"same\",activation=\"relu\",input_shape=(224,224,3)))\n",
    "model.add(MaxPooling2D(pool_size=2))\n",
    "model.add(Conv2D(filters=32,kernel_size=2,padding=\"same\",activation =\"relu\"))\n",
    "model.add(MaxPooling2D(pool_size=2))\n",
    "model.add(Conv2D(filters=64,kernel_size=2,padding=\"same\",activation=\"relu\"))\n",
    "model.add(MaxPooling2D(pool_size=2))\n",
    "model.add(Flatten())\n",
    "model.add(Dense(500,activation=\"relu\"))\n",
    "model.add(Dense(2,activation=\"softmax\"))\n",
    "model.summary()"
   ]
  },
  {
   "cell_type": "code",
   "execution_count": 14,
   "metadata": {},
   "outputs": [],
   "source": [
    "# telling the model what cost and optimization method to use\n",
    "model.compile(\n",
    "  loss='categorical_crossentropy',\n",
    "  optimizer='adam',\n",
    "  metrics=['accuracy']\n",
    ")\n"
   ]
  },
  {
   "cell_type": "code",
   "execution_count": 15,
   "metadata": {},
   "outputs": [],
   "source": [
    "# Use the Image Data Generator to import the images from the dataset\n",
    "from tensorflow.keras.preprocessing.image import ImageDataGenerator\n",
    "\n",
    "train_datagen = ImageDataGenerator(rescale = 1./255,\n",
    "                                   shear_range = 0.2,\n",
    "                                   zoom_range = 0.2,\n",
    "                                   horizontal_flip = True)\n",
    "\n",
    "test_datagen = ImageDataGenerator(rescale = 1./255)"
   ]
  },
  {
   "cell_type": "code",
   "execution_count": 16,
   "metadata": {},
   "outputs": [
    {
     "name": "stdout",
     "output_type": "stream",
     "text": [
      "Found 416 images belonging to 2 classes.\n"
     ]
    }
   ],
   "source": [
    "# provide the same target size as initialied for the image size\n",
    "training_set = train_datagen.flow_from_directory('Dataset/Train',\n",
    "                                                 target_size = (224, 224),\n",
    "                                                 batch_size = 32,\n",
    "                                                 class_mode = 'categorical')"
   ]
  },
  {
   "cell_type": "code",
   "execution_count": 17,
   "metadata": {},
   "outputs": [
    {
     "data": {
      "text/plain": [
       "<keras_preprocessing.image.directory_iterator.DirectoryIterator at 0x1af33c78240>"
      ]
     },
     "execution_count": 17,
     "metadata": {},
     "output_type": "execute_result"
    }
   ],
   "source": [
    "training_set"
   ]
  },
  {
   "cell_type": "code",
   "execution_count": 18,
   "metadata": {},
   "outputs": [
    {
     "name": "stdout",
     "output_type": "stream",
     "text": [
      "Found 134 images belonging to 2 classes.\n"
     ]
    }
   ],
   "source": [
    "test_set = test_datagen.flow_from_directory('Dataset/Test',\n",
    "                                            target_size = (224, 224),\n",
    "                                            batch_size = 32,\n",
    "                                            class_mode = 'categorical')"
   ]
  },
  {
   "cell_type": "code",
   "execution_count": 20,
   "metadata": {
    "scrolled": true
   },
   "outputs": [
    {
     "name": "stdout",
     "output_type": "stream",
     "text": [
      "WARNING:tensorflow:From <ipython-input-20-69229fe26ea3>:8: Model.fit_generator (from tensorflow.python.keras.engine.training) is deprecated and will be removed in a future version.\n",
      "Instructions for updating:\n",
      "Please use Model.fit, which supports generators.\n",
      "Epoch 1/50\n",
      "13/13 [==============================] - 37s 3s/step - loss: 1.3985 - accuracy: 0.5240 - val_loss: 0.6251 - val_accuracy: 0.6791\n",
      "Epoch 2/50\n",
      "13/13 [==============================] - 19s 1s/step - loss: 0.6709 - accuracy: 0.5649 - val_loss: 0.6525 - val_accuracy: 0.6791\n",
      "Epoch 3/50\n",
      "13/13 [==============================] - 18s 1s/step - loss: 0.6067 - accuracy: 0.6611 - val_loss: 0.7849 - val_accuracy: 0.4104\n",
      "Epoch 4/50\n",
      "13/13 [==============================] - 20s 2s/step - loss: 0.4972 - accuracy: 0.7644 - val_loss: 1.0613 - val_accuracy: 0.3582\n",
      "Epoch 5/50\n",
      "13/13 [==============================] - 18s 1s/step - loss: 0.5445 - accuracy: 0.6803 - val_loss: 0.6420 - val_accuracy: 0.6343\n",
      "Epoch 6/50\n",
      "13/13 [==============================] - 20s 2s/step - loss: 0.4443 - accuracy: 0.8125 - val_loss: 0.6617 - val_accuracy: 0.5522\n",
      "Epoch 7/50\n",
      "13/13 [==============================] - 21s 2s/step - loss: 0.3561 - accuracy: 0.8389 - val_loss: 0.8547 - val_accuracy: 0.5075\n",
      "Epoch 8/50\n",
      "13/13 [==============================] - 18s 1s/step - loss: 0.3135 - accuracy: 0.8726 - val_loss: 0.5923 - val_accuracy: 0.6791\n",
      "Epoch 9/50\n",
      "13/13 [==============================] - 19s 1s/step - loss: 0.2927 - accuracy: 0.8894 - val_loss: 0.4876 - val_accuracy: 0.7612\n",
      "Epoch 10/50\n",
      "13/13 [==============================] - 19s 1s/step - loss: 0.2395 - accuracy: 0.9183 - val_loss: 0.4736 - val_accuracy: 0.7463\n",
      "Epoch 11/50\n",
      "13/13 [==============================] - 19s 1s/step - loss: 0.2102 - accuracy: 0.9038 - val_loss: 0.4102 - val_accuracy: 0.8060\n",
      "Epoch 12/50\n",
      "13/13 [==============================] - 18s 1s/step - loss: 0.1663 - accuracy: 0.9447 - val_loss: 0.4885 - val_accuracy: 0.7687\n",
      "Epoch 13/50\n",
      "13/13 [==============================] - 18s 1s/step - loss: 0.1559 - accuracy: 0.9447 - val_loss: 0.3694 - val_accuracy: 0.8209\n",
      "Epoch 14/50\n",
      "13/13 [==============================] - 18s 1s/step - loss: 0.1622 - accuracy: 0.9327 - val_loss: 0.5514 - val_accuracy: 0.7463\n",
      "Epoch 15/50\n",
      "13/13 [==============================] - 18s 1s/step - loss: 0.1443 - accuracy: 0.9495 - val_loss: 0.3233 - val_accuracy: 0.8507\n",
      "Epoch 16/50\n",
      "13/13 [==============================] - 18s 1s/step - loss: 0.1305 - accuracy: 0.9543 - val_loss: 0.3503 - val_accuracy: 0.8507\n",
      "Epoch 17/50\n",
      "13/13 [==============================] - 18s 1s/step - loss: 0.1091 - accuracy: 0.9712 - val_loss: 0.2773 - val_accuracy: 0.8881\n",
      "Epoch 18/50\n",
      "13/13 [==============================] - 22s 2s/step - loss: 0.1129 - accuracy: 0.9639 - val_loss: 0.2443 - val_accuracy: 0.9104\n",
      "Epoch 19/50\n",
      "13/13 [==============================] - 20s 2s/step - loss: 0.1073 - accuracy: 0.9663 - val_loss: 0.3486 - val_accuracy: 0.8358\n",
      "Epoch 20/50\n",
      "13/13 [==============================] - 18s 1s/step - loss: 0.0889 - accuracy: 0.9663 - val_loss: 0.2553 - val_accuracy: 0.8955\n",
      "Epoch 21/50\n",
      "13/13 [==============================] - 18s 1s/step - loss: 0.1751 - accuracy: 0.9135 - val_loss: 0.5040 - val_accuracy: 0.7463\n",
      "Epoch 22/50\n",
      "13/13 [==============================] - 19s 1s/step - loss: 0.1553 - accuracy: 0.9423 - val_loss: 0.2048 - val_accuracy: 0.9328\n",
      "Epoch 23/50\n",
      "13/13 [==============================] - 18s 1s/step - loss: 0.0909 - accuracy: 0.9736 - val_loss: 0.3051 - val_accuracy: 0.8657\n",
      "Epoch 24/50\n",
      "13/13 [==============================] - 18s 1s/step - loss: 0.1101 - accuracy: 0.9615 - val_loss: 0.2413 - val_accuracy: 0.9254\n",
      "Epoch 25/50\n",
      "13/13 [==============================] - 19s 1s/step - loss: 0.0787 - accuracy: 0.9688 - val_loss: 0.2198 - val_accuracy: 0.9179\n",
      "Epoch 26/50\n",
      "13/13 [==============================] - 18s 1s/step - loss: 0.0565 - accuracy: 0.9808 - val_loss: 0.1988 - val_accuracy: 0.9179\n",
      "Epoch 27/50\n",
      "13/13 [==============================] - 18s 1s/step - loss: 0.0425 - accuracy: 0.9904 - val_loss: 0.1758 - val_accuracy: 0.9254\n",
      "Epoch 28/50\n",
      "13/13 [==============================] - 19s 1s/step - loss: 0.0866 - accuracy: 0.9712 - val_loss: 0.2773 - val_accuracy: 0.8806\n",
      "Epoch 29/50\n",
      "13/13 [==============================] - 19s 1s/step - loss: 0.1003 - accuracy: 0.9760 - val_loss: 0.3030 - val_accuracy: 0.8582\n",
      "Epoch 30/50\n",
      "13/13 [==============================] - 18s 1s/step - loss: 0.0872 - accuracy: 0.9591 - val_loss: 0.3532 - val_accuracy: 0.8806\n",
      "Epoch 31/50\n",
      "13/13 [==============================] - 18s 1s/step - loss: 0.1037 - accuracy: 0.9567 - val_loss: 0.4527 - val_accuracy: 0.8134\n",
      "Epoch 32/50\n",
      "13/13 [==============================] - 18s 1s/step - loss: 0.1272 - accuracy: 0.9567 - val_loss: 0.1727 - val_accuracy: 0.9179\n",
      "Epoch 33/50\n",
      "13/13 [==============================] - 18s 1s/step - loss: 0.0501 - accuracy: 0.9928 - val_loss: 1.3449 - val_accuracy: 0.7910\n",
      "Epoch 34/50\n",
      "13/13 [==============================] - 18s 1s/step - loss: 0.1148 - accuracy: 0.9688 - val_loss: 0.4776 - val_accuracy: 0.7836\n",
      "Epoch 35/50\n",
      "13/13 [==============================] - 18s 1s/step - loss: 0.1109 - accuracy: 0.9639 - val_loss: 0.2526 - val_accuracy: 0.8955\n",
      "Epoch 36/50\n",
      "13/13 [==============================] - 18s 1s/step - loss: 0.0608 - accuracy: 0.9880 - val_loss: 0.1754 - val_accuracy: 0.9328\n",
      "Epoch 37/50\n",
      "13/13 [==============================] - 18s 1s/step - loss: 0.0792 - accuracy: 0.9832 - val_loss: 0.4512 - val_accuracy: 0.8358\n",
      "Epoch 38/50\n",
      "13/13 [==============================] - 18s 1s/step - loss: 0.1037 - accuracy: 0.9688 - val_loss: 0.2430 - val_accuracy: 0.9179\n",
      "Epoch 39/50\n",
      "13/13 [==============================] - 18s 1s/step - loss: 0.0846 - accuracy: 0.9808 - val_loss: 0.2652 - val_accuracy: 0.9030\n",
      "Epoch 40/50\n",
      "13/13 [==============================] - 18s 1s/step - loss: 0.0585 - accuracy: 0.9808 - val_loss: 0.5817 - val_accuracy: 0.8507\n",
      "Epoch 41/50\n",
      "13/13 [==============================] - 18s 1s/step - loss: 0.1010 - accuracy: 0.9567 - val_loss: 0.4229 - val_accuracy: 0.8507\n",
      "Epoch 42/50\n",
      "13/13 [==============================] - 18s 1s/step - loss: 0.0698 - accuracy: 0.9760 - val_loss: 0.2616 - val_accuracy: 0.8881\n",
      "Epoch 43/50\n",
      "13/13 [==============================] - 18s 1s/step - loss: 0.0412 - accuracy: 0.9928 - val_loss: 0.1382 - val_accuracy: 0.9254\n",
      "Epoch 44/50\n",
      "13/13 [==============================] - 18s 1s/step - loss: 0.0793 - accuracy: 0.9760 - val_loss: 0.1767 - val_accuracy: 0.9328\n",
      "Epoch 45/50\n",
      "13/13 [==============================] - 19s 1s/step - loss: 0.0396 - accuracy: 0.9904 - val_loss: 0.1241 - val_accuracy: 0.9552\n",
      "Epoch 46/50\n",
      "13/13 [==============================] - 18s 1s/step - loss: 0.0594 - accuracy: 0.9760 - val_loss: 0.2838 - val_accuracy: 0.9030\n",
      "Epoch 47/50\n",
      "13/13 [==============================] - 18s 1s/step - loss: 0.0350 - accuracy: 0.9928 - val_loss: 0.1106 - val_accuracy: 0.9478\n",
      "Epoch 48/50\n",
      "13/13 [==============================] - 18s 1s/step - loss: 0.0283 - accuracy: 0.9880 - val_loss: 0.3633 - val_accuracy: 0.8955\n",
      "Epoch 49/50\n",
      "13/13 [==============================] - 18s 1s/step - loss: 0.0473 - accuracy: 0.9784 - val_loss: 0.1783 - val_accuracy: 0.9254\n",
      "Epoch 50/50\n",
      "13/13 [==============================] - 18s 1s/step - loss: 0.0236 - accuracy: 0.9952 - val_loss: 0.2021 - val_accuracy: 0.9179\n"
     ]
    }
   ],
   "source": [
    "# fitting the model\n",
    "# Running the cell\n",
    "r = model.fit_generator(\n",
    "  training_set,\n",
    "  validation_data=test_set,\n",
    "  epochs=50,\n",
    "  steps_per_epoch=len(training_set),\n",
    "  validation_steps=len(test_set)\n",
    ")"
   ]
  },
  {
   "cell_type": "code",
   "execution_count": 21,
   "metadata": {},
   "outputs": [
    {
     "data": {
      "image/png": "[encoded data removed]",
      "text/plain": [
       "<Figure size 432x288 with 1 Axes>"
      ]
     },
     "metadata": {
      "needs_background": "light"
     },
     "output_type": "display_data"
    },
    {
     "data": {
      "image/png": "[encoded data removed]",
      "text/plain": [
       "<Figure size 432x288 with 1 Axes>"
      ]
     },
     "metadata": {
      "needs_background": "light"
     },
     "output_type": "display_data"
    },
    {
     "data": {
      "text/plain": [
       "<Figure size 432x288 with 0 Axes>"
      ]
     },
     "metadata": {},
     "output_type": "display_data"
    }
   ],
   "source": [
    "# plotting the loss\n",
    "plt.plot(r.history['loss'], label='train loss')\n",
    "plt.plot(r.history['val_loss'], label='val loss')\n",
    "plt.legend()\n",
    "plt.show()\n",
    "plt.savefig('LossVal_loss')\n",
    "\n",
    "# plotting the accuracy\n",
    "plt.plot(r.history['accuracy'], label='train acc')\n",
    "plt.plot(r.history['val_accuracy'], label='val acc')\n",
    "plt.legend()\n",
    "plt.show()\n",
    "plt.savefig('AccVal_acc')"
   ]
  },
  {
   "cell_type": "code",
   "execution_count": 22,
   "metadata": {},
   "outputs": [],
   "source": [
    "# saving it as a h5 file\n",
    "\n",
    "\n",
    "from tensorflow.keras.models import load_model\n",
    "\n",
    "model.save('model_vgg19.h5')"
   ]
  },
  {
   "cell_type": "code",
   "execution_count": 23,
   "metadata": {},
   "outputs": [],
   "source": [
    "\n",
    "y_pred = model.predict(test_set)\n"
   ]
  },
  {
   "cell_type": "code",
   "execution_count": 24,
   "metadata": {},
   "outputs": [
    {
     "data": {
      "text/plain": [
       "array([[9.99999881e-01, 8.82650255e-08],\n",
       "       [1.00000000e+00, 5.80052060e-08],\n",
       "       [1.00000000e+00, 7.82606691e-09],\n",
       "       [1.00000000e+00, 2.77406228e-31],\n",
       "       [1.00000000e+00, 1.46196117e-17],\n",
       "       [9.99996305e-01, 3.63888535e-06],\n",
       "       [1.00000000e+00, 9.67396163e-11],\n",
       "       [1.00000000e+00, 6.01356670e-22],\n",
       "       [1.19599560e-03, 9.98803973e-01],\n",
       "       [9.99999642e-01, 3.06737718e-07],\n",
       "       [9.87020373e-01, 1.29796807e-02],\n",
       "       [9.99974251e-01, 2.57213869e-05],\n",
       "       [7.91466057e-01, 2.08533973e-01],\n",
       "       [3.02647939e-03, 9.96973515e-01],\n",
       "       [9.04324472e-01, 9.56754684e-02],\n",
       "       [1.00000000e+00, 8.65311225e-11],\n",
       "       [1.02287449e-01, 8.97712469e-01],\n",
       "       [3.26837972e-03, 9.96731639e-01],\n",
       "       [8.86334538e-01, 1.13665409e-01],\n",
       "       [1.00000000e+00, 5.05926824e-18],\n",
       "       [9.99988317e-01, 1.16409083e-05],\n",
       "       [9.99998450e-01, 1.57914496e-06],\n",
       "       [9.96083140e-01, 3.91684705e-03],\n",
       "       [5.62787894e-03, 9.94372129e-01],\n",
       "       [5.04912376e-01, 4.95087594e-01],\n",
       "       [1.69197400e-03, 9.98308063e-01],\n",
       "       [9.99999881e-01, 1.68647958e-07],\n",
       "       [2.17186380e-03, 9.97828066e-01],\n",
       "       [9.99999404e-01, 6.54346138e-07],\n",
       "       [2.74580647e-03, 9.97254193e-01],\n",
       "       [1.68371340e-03, 9.98316288e-01],\n",
       "       [3.17683257e-03, 9.96823192e-01],\n",
       "       [1.00000000e+00, 8.05987282e-32],\n",
       "       [3.30627756e-03, 9.96693730e-01],\n",
       "       [1.00000000e+00, 5.99281422e-16],\n",
       "       [9.99998450e-01, 1.51047652e-06],\n",
       "       [1.79577130e-03, 9.98204231e-01],\n",
       "       [2.56631747e-02, 9.74336803e-01],\n",
       "       [1.00000000e+00, 1.32281295e-11],\n",
       "       [1.99788421e-01, 8.00211549e-01],\n",
       "       [2.16857083e-02, 9.78314340e-01],\n",
       "       [9.99999523e-01, 4.57979780e-07],\n",
       "       [9.99796569e-01, 2.03499163e-04],\n",
       "       [1.58732920e-03, 9.98412609e-01],\n",
       "       [1.62672647e-03, 9.98373270e-01],\n",
       "       [8.11657786e-01, 1.88342243e-01],\n",
       "       [3.34714204e-01, 6.65285885e-01],\n",
       "       [9.54318881e-01, 4.56810631e-02],\n",
       "       [1.10076983e-02, 9.88992333e-01],\n",
       "       [1.00000000e+00, 2.56222776e-09],\n",
       "       [9.99878645e-01, 1.21309153e-04],\n",
       "       [1.00000000e+00, 7.00420624e-14],\n",
       "       [1.30408676e-03, 9.98695910e-01],\n",
       "       [9.99991655e-01, 8.34478942e-06],\n",
       "       [1.96517721e-01, 8.03482294e-01],\n",
       "       [1.00000000e+00, 1.70938697e-11],\n",
       "       [9.99999523e-01, 4.60194713e-07],\n",
       "       [4.12156247e-03, 9.95878458e-01],\n",
       "       [1.00000000e+00, 2.32456288e-31],\n",
       "       [8.12834874e-03, 9.91871715e-01],\n",
       "       [3.80861945e-02, 9.61913824e-01],\n",
       "       [1.00000000e+00, 5.25022799e-08],\n",
       "       [1.02372549e-03, 9.98976350e-01],\n",
       "       [9.99982834e-01, 1.71833926e-05],\n",
       "       [1.00000000e+00, 2.12138267e-14],\n",
       "       [1.00000000e+00, 2.76083212e-10],\n",
       "       [8.59673484e-04, 9.99140263e-01],\n",
       "       [2.18437407e-02, 9.78156209e-01],\n",
       "       [9.47507040e-04, 9.99052465e-01],\n",
       "       [1.00000000e+00, 5.55380767e-14],\n",
       "       [1.00000000e+00, 5.30690780e-09],\n",
       "       [9.99967456e-01, 3.25349756e-05],\n",
       "       [1.00000000e+00, 4.07476407e-13],\n",
       "       [9.99999762e-01, 2.01815126e-07],\n",
       "       [1.00000000e+00, 2.43358294e-18],\n",
       "       [2.69342899e-01, 7.30657041e-01],\n",
       "       [1.00000000e+00, 3.85612395e-08],\n",
       "       [2.22785654e-03, 9.97772157e-01],\n",
       "       [9.98687446e-01, 1.31255761e-03],\n",
       "       [1.00000000e+00, 5.53162849e-10],\n",
       "       [1.00158583e-02, 9.89984155e-01],\n",
       "       [2.76527647e-02, 9.72347260e-01],\n",
       "       [1.00000000e+00, 3.83480853e-16],\n",
       "       [3.01191234e-03, 9.96988118e-01],\n",
       "       [4.76986403e-03, 9.95230198e-01],\n",
       "       [1.00000000e+00, 1.06572501e-16],\n",
       "       [9.96390998e-01, 3.60902282e-03],\n",
       "       [1.75489509e-03, 9.98245120e-01],\n",
       "       [3.51660967e-01, 6.48338974e-01],\n",
       "       [1.00000000e+00, 3.36636616e-13],\n",
       "       [1.00000000e+00, 3.30931371e-08],\n",
       "       [1.68264769e-02, 9.83173549e-01],\n",
       "       [1.00000000e+00, 1.25508415e-09],\n",
       "       [1.23145327e-03, 9.98768508e-01],\n",
       "       [2.30758521e-03, 9.97692466e-01],\n",
       "       [1.31661538e-03, 9.98683393e-01],\n",
       "       [9.99977469e-01, 2.25294971e-05],\n",
       "       [9.98971105e-01, 1.02892821e-03],\n",
       "       [4.23144316e-03, 9.95768547e-01],\n",
       "       [9.99992609e-01, 7.34886589e-06],\n",
       "       [1.00000000e+00, 4.75349848e-13],\n",
       "       [1.00000000e+00, 4.05920828e-33],\n",
       "       [3.39843193e-03, 9.96601582e-01],\n",
       "       [1.00000000e+00, 2.87284890e-10],\n",
       "       [1.00000000e+00, 3.35953061e-08],\n",
       "       [9.99893665e-01, 1.06271873e-04],\n",
       "       [1.00000000e+00, 1.30436428e-09],\n",
       "       [9.37951326e-01, 6.20486774e-02],\n",
       "       [1.00000000e+00, 5.11294159e-15],\n",
       "       [1.24204229e-03, 9.98757958e-01],\n",
       "       [7.17044890e-01, 2.82955050e-01],\n",
       "       [1.00000000e+00, 1.70225278e-10],\n",
       "       [7.35127483e-04, 9.99264896e-01],\n",
       "       [9.99994040e-01, 5.91569733e-06],\n",
       "       [9.99999642e-01, 3.75239466e-07],\n",
       "       [9.99999642e-01, 3.55019324e-07],\n",
       "       [2.86678255e-01, 7.13321745e-01],\n",
       "       [1.00000000e+00, 4.93605920e-11],\n",
       "       [9.99996781e-01, 3.25863448e-06],\n",
       "       [9.99989510e-01, 1.05330992e-05],\n",
       "       [1.00000000e+00, 4.47430821e-08],\n",
       "       [1.73363939e-03, 9.98266399e-01],\n",
       "       [1.46133229e-02, 9.85386729e-01],\n",
       "       [5.72507642e-03, 9.94274914e-01],\n",
       "       [1.00000000e+00, 8.71606609e-09],\n",
       "       [5.96176386e-02, 9.40382421e-01],\n",
       "       [2.38048355e-03, 9.97619450e-01],\n",
       "       [9.99998212e-01, 1.81458802e-06],\n",
       "       [1.00000000e+00, 3.14005515e-32],\n",
       "       [1.25316205e-03, 9.98746872e-01],\n",
       "       [9.99999642e-01, 3.16066206e-07],\n",
       "       [1.00000000e+00, 6.30900943e-10],\n",
       "       [1.00000000e+00, 6.42518747e-11],\n",
       "       [2.12424155e-03, 9.97875810e-01]], dtype=float32)"
      ]
     },
     "execution_count": 24,
     "metadata": {},
     "output_type": "execute_result"
    }
   ],
   "source": [
    "y_pred"
   ]
  },
  {
   "cell_type": "code",
   "execution_count": 25,
   "metadata": {},
   "outputs": [],
   "source": [
    "import numpy as np\n",
    "y_pred = np.argmax(y_pred, axis=1)"
   ]
  },
  {
   "cell_type": "code",
   "execution_count": 26,
   "metadata": {},
   "outputs": [
    {
     "data": {
      "text/plain": [
       "array([0, 0, 0, 0, 0, 0, 0, 0, 1, 0, 0, 0, 0, 1, 0, 0, 1, 1, 0, 0, 0, 0,\n",
       "       0, 1, 0, 1, 0, 1, 0, 1, 1, 1, 0, 1, 0, 0, 1, 1, 0, 1, 1, 0, 0, 1,\n",
       "       1, 0, 1, 0, 1, 0, 0, 0, 1, 0, 1, 0, 0, 1, 0, 1, 1, 0, 1, 0, 0, 0,\n",
       "       1, 1, 1, 0, 0, 0, 0, 0, 0, 1, 0, 1, 0, 0, 1, 1, 0, 1, 1, 0, 0, 1,\n",
       "       1, 0, 0, 1, 0, 1, 1, 1, 0, 0, 1, 0, 0, 0, 1, 0, 0, 0, 0, 0, 0, 1,\n",
       "       0, 0, 1, 0, 0, 0, 1, 0, 0, 0, 0, 1, 1, 1, 0, 1, 1, 0, 0, 1, 0, 0,\n",
       "       0, 1], dtype=int64)"
      ]
     },
     "execution_count": 26,
     "metadata": {},
     "output_type": "execute_result"
    }
   ],
   "source": [
    "y_pred"
   ]
  },
  {
   "cell_type": "code",
   "execution_count": 27,
   "metadata": {},
   "outputs": [],
   "source": [
    "from tensorflow.keras.models import load_model\n",
    "from tensorflow.keras.preprocessing import image"
   ]
  },
  {
   "cell_type": "code",
   "execution_count": 28,
   "metadata": {},
   "outputs": [],
   "source": [
    "model=load_model('model_vgg19.h5')"
   ]
  },
  {
   "cell_type": "code",
   "execution_count": 90,
   "metadata": {},
   "outputs": [],
   "source": [
    "img=image.load_img('Dataset/Test/Uninfected/2.png',target_size=(224,224))\n",
    "\n"
   ]
  },
  {
   "cell_type": "code",
   "execution_count": 91,
   "metadata": {},
   "outputs": [
    {
     "data": {
      "text/plain": [
       "array([[[0., 0., 0.],\n",
       "        [0., 0., 0.],\n",
       "        [0., 0., 0.],\n",
       "        ...,\n",
       "        [0., 0., 0.],\n",
       "        [0., 0., 0.],\n",
       "        [0., 0., 0.]],\n",
       "\n",
       "       [[0., 0., 0.],\n",
       "        [0., 0., 0.],\n",
       "        [0., 0., 0.],\n",
       "        ...,\n",
       "        [0., 0., 0.],\n",
       "        [0., 0., 0.],\n",
       "        [0., 0., 0.]],\n",
       "\n",
       "       [[0., 0., 0.],\n",
       "        [0., 0., 0.],\n",
       "        [0., 0., 0.],\n",
       "        ...,\n",
       "        [0., 0., 0.],\n",
       "        [0., 0., 0.],\n",
       "        [0., 0., 0.]],\n",
       "\n",
       "       ...,\n",
       "\n",
       "       [[0., 0., 0.],\n",
       "        [0., 0., 0.],\n",
       "        [0., 0., 0.],\n",
       "        ...,\n",
       "        [0., 0., 0.],\n",
       "        [0., 0., 0.],\n",
       "        [0., 0., 0.]],\n",
       "\n",
       "       [[0., 0., 0.],\n",
       "        [0., 0., 0.],\n",
       "        [0., 0., 0.],\n",
       "        ...,\n",
       "        [0., 0., 0.],\n",
       "        [0., 0., 0.],\n",
       "        [0., 0., 0.]],\n",
       "\n",
       "       [[0., 0., 0.],\n",
       "        [0., 0., 0.],\n",
       "        [0., 0., 0.],\n",
       "        ...,\n",
       "        [0., 0., 0.],\n",
       "        [0., 0., 0.],\n",
       "        [0., 0., 0.]]], dtype=float32)"
      ]
     },
     "execution_count": 91,
     "metadata": {},
     "output_type": "execute_result"
    }
   ],
   "source": [
    "x=image.img_to_array(img)\n",
    "x"
   ]
  },
  {
   "cell_type": "code",
   "execution_count": 92,
   "metadata": {},
   "outputs": [
    {
     "data": {
      "text/plain": [
       "(224, 224, 3)"
      ]
     },
     "execution_count": 92,
     "metadata": {},
     "output_type": "execute_result"
    }
   ],
   "source": [
    "x.shape"
   ]
  },
  {
   "cell_type": "code",
   "execution_count": 93,
   "metadata": {},
   "outputs": [],
   "source": [
    "x=x/255"
   ]
  },
  {
   "cell_type": "code",
   "execution_count": 94,
   "metadata": {},
   "outputs": [
    {
     "data": {
      "text/plain": [
       "(1, 224, 224, 3)"
      ]
     },
     "execution_count": 94,
     "metadata": {},
     "output_type": "execute_result"
    }
   ],
   "source": [
    "x=np.expand_dims(x,axis=0)\n",
    "img_data=preprocess_input(x)\n",
    "img_data.shape"
   ]
  },
  {
   "cell_type": "code",
   "execution_count": 95,
   "metadata": {},
   "outputs": [
    {
     "data": {
      "text/plain": [
       "array([[0., 1.]], dtype=float32)"
      ]
     },
     "execution_count": 95,
     "metadata": {},
     "output_type": "execute_result"
    }
   ],
   "source": [
    "model.predict(img_data)"
   ]
  },
  {
   "cell_type": "code",
   "execution_count": 96,
   "metadata": {},
   "outputs": [],
   "source": [
    "a=np.argmax(model.predict(img_data), axis=1)"
   ]
  },
  {
   "cell_type": "code",
   "execution_count": 97,
   "metadata": {},
   "outputs": [
    {
     "name": "stdout",
     "output_type": "stream",
     "text": [
      "Uninfected\n"
     ]
    }
   ],
   "source": [
    "if(a==1):\n",
    "    print(\"Uninfected\")\n",
    "else:\n",
    "    print(\"Infected\")"
   ]
  }
 ],
 "metadata": {
  "kernelspec": {
   "display_name": "Python 3",
   "language": "python",
   "name": "python3"
  },
  "language_info": {
   "codemirror_mode": {
    "name": "ipython",
    "version": 3
   },
   "file_extension": ".py",
   "mimetype": "text/x-python",
   "name": "python",
   "nbconvert_exporter": "python",
   "pygments_lexer": "ipython3",
   "version": "3.7.3"
  }
 },
 "nbformat": 4,
 "nbformat_minor": 2
}
